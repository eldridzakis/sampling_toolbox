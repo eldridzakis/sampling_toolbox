{
 "cells": [
  {
   "cell_type": "code",
   "execution_count": 1,
   "metadata": {},
   "outputs": [
    {
     "data": {
      "text/html": [
       "<style>.container { width:90% !important; }</style>"
      ],
      "text/plain": [
       "<IPython.core.display.HTML object>"
      ]
     },
     "metadata": {},
     "output_type": "display_data"
    }
   ],
   "source": [
    "import sparkbeyond._api2.classes as sb\n",
    "import pandas as pd\n",
    "import numpy as np\n",
    "import time\n",
    "import matplotlib.pyplot as plt\n",
    "from IPython.core.display import display, HTML\n",
    "display(HTML(\"<style>.container { width:90% !important; }</style>\"))\n",
    "\n",
    "# For API key\n",
    "import os\n",
    "\n",
    "np.random.seed(seed=42)"
   ]
  },
  {
   "cell_type": "code",
   "execution_count": 2,
   "metadata": {},
   "outputs": [],
   "source": [
    "# Import the needed class from the sampling_toolbox\n",
    "from sampling_toolbox import PermutationObject, rig\n",
    "from sparkbeyond_utils import operational_log_number_of_features, get_binned_target, clean_enriched_data"
   ]
  },
  {
   "cell_type": "code",
   "execution_count": 3,
   "metadata": {},
   "outputs": [
    {
     "name": "stdout",
     "output_type": "stream",
     "text": [
      "Connecting to https://demo.sparkbeyond.com/...\n",
      "Connected. Server version 1.36.1\n"
     ]
    }
   ],
   "source": [
    "api_key = os.environ['SB_Demo_API_key']\n",
    "server_url = 'https://demo.sparkbeyond.com/'\n",
    "client = sb.SparkBeyondClient(base_url=server_url, api_key=api_key, verify_ssl_certificate=False)"
   ]
  },
  {
   "cell_type": "code",
   "execution_count": 4,
   "metadata": {},
   "outputs": [],
   "source": [
    "def plot_bias(df_metrics, number_of_bins = 20):\n",
    "    \"\"\"Function for plotting the bias measured with the test and population (unseen) data\"\"\"\n",
    "    fig, ax = plt.subplots(1,2, figsize = (12,5))\n",
    "\n",
    "    # Set bins for both plots\n",
    "    bins = np.linspace(df_metrics['test_bias'].min(), df_metrics['test_bias'].max(), number_of_bins)\n",
    "\n",
    "    # Test bias\n",
    "    df_metrics['test_bias'].hist(ax=ax[0], bins = bins)\n",
    "    ax[0].vlines(x= 0, ymin = 0,ymax = ax[0].get_ylim()[1],color = 'r')\n",
    "    ax[0].set_xlabel(\"Train_RIG - Test_RIG\")\n",
    "    ax[0].set_title('Bias (test)')\n",
    "\n",
    "    # Population bias\n",
    "    df_metrics['population_bias'].hist(ax=ax[1], bins = bins)\n",
    "    ax[1].vlines(x= 0, ymin = 0,ymax = ax[1].get_ylim()[1],color = 'r')\n",
    "    ax[1].set_xlabel(\"Train_RIG - Population_RIG\")\n",
    "    ax[1].set_title('Bias (population)')\n",
    "\n",
    "    print('Test bias \\t\\t= {}'.format(df_metrics['test_bias'].median()))\n",
    "    print('Population bias \\t= {}'.format(df_metrics['population_bias'].median()))"
   ]
  },
  {
   "cell_type": "markdown",
   "metadata": {},
   "source": [
    "# Part 2 Measure overestimation bias \n",
    "## Binary Classification - Lending Club"
   ]
  },
  {
   "cell_type": "code",
   "execution_count": 5,
   "metadata": {},
   "outputs": [
    {
     "data": {
      "text/plain": [
       "((5466, 42), (54655, 42), (49189, 42))"
      ]
     },
     "execution_count": 5,
     "metadata": {},
     "output_type": "execute_result"
    }
   ],
   "source": [
    "filepath = './Data/LC_defaults_loanStats_with_random_parition.csv.gz'\n",
    "df_full = pd.read_csv(filepath)\n",
    "df_sample = df_full.sample(frac = 0.1, random_state = 42)\n",
    "df_pop = df_full[~df_full.index.isin(df_sample.index)]\n",
    "df_sample.shape, df_full.shape, df_pop.shape"
   ]
  },
  {
   "cell_type": "code",
   "execution_count": 6,
   "metadata": {},
   "outputs": [],
   "source": [
    "# Target column\n",
    "target = 'bad_loans'\n",
    "\n",
    "# Previously run pipeline\n",
    "proj_name = 'Lending_Club_peter'\n",
    "revision = 2\n",
    "\n",
    "model = client.revision(proj_name, revision_id=revision)"
   ]
  },
  {
   "cell_type": "code",
   "execution_count": 7,
   "metadata": {},
   "outputs": [
    {
     "data": {
      "application/vnd.jupyter.widget-view+json": {
       "model_id": "ee0bb7a207b44822ae68ed750350a5f9",
       "version_major": 2,
       "version_minor": 0
      },
      "text/plain": [
       "HBox(children=(IntProgress(value=0, description='Hashing dataframe contents', max=4315, style=ProgressStyle(de…"
      ]
     },
     "metadata": {},
     "output_type": "display_data"
    },
    {
     "name": "stdout",
     "output_type": "stream",
     "text": [
      "\n",
      "Target filename with dataframe hash is train-72a45a425239b6baa1a63ecceacd05e4.csv.gz\n",
      "Writing dataframe to temp file /var/folders/z4/ymtx_b595ngcqjv1bwwv9qjh0000gn/T/trainqgr7mwej.csv.gz\n"
     ]
    },
    {
     "data": {
      "application/vnd.jupyter.widget-view+json": {
       "model_id": "beb026dcbd134ec08372b2ad615d13e6",
       "version_major": 2,
       "version_minor": 0
      },
      "text/plain": [
       "HBox(children=(IntProgress(value=0, description='Uploading', max=785989, style=ProgressStyle(description_width…"
      ]
     },
     "metadata": {},
     "output_type": "display_data"
    },
    {
     "name": "stdout",
     "output_type": "stream",
     "text": [
      "\n"
     ]
    },
    {
     "data": {
      "application/vnd.jupyter.widget-view+json": {
       "model_id": "973d4f4eb60c4df48b98951fc3e61467",
       "version_major": 2,
       "version_minor": 0
      },
      "text/plain": [
       "HBox(children=(IntProgress(value=0, description='Hashing dataframe contents', max=1151, style=ProgressStyle(de…"
      ]
     },
     "metadata": {},
     "output_type": "display_data"
    },
    {
     "name": "stdout",
     "output_type": "stream",
     "text": [
      "\n",
      "Target filename with dataframe hash is test-6c35c3142e0bf0f7b0a6815b2c87dddb.csv.gz\n",
      "Writing dataframe to temp file /var/folders/z4/ymtx_b595ngcqjv1bwwv9qjh0000gn/T/testzhy_550g.csv.gz\n"
     ]
    },
    {
     "data": {
      "application/vnd.jupyter.widget-view+json": {
       "model_id": "c43b790740ec40328fb3dbc3de84166b",
       "version_major": 2,
       "version_minor": 0
      },
      "text/plain": [
       "HBox(children=(IntProgress(value=0, description='Uploading', max=206459, style=ProgressStyle(description_width…"
      ]
     },
     "metadata": {},
     "output_type": "display_data"
    },
    {
     "name": "stdout",
     "output_type": "stream",
     "text": [
      "\n"
     ]
    },
    {
     "data": {
      "application/vnd.jupyter.widget-view+json": {
       "model_id": "ae8fe5846bbd44c8a2b912dd6c5f242c",
       "version_major": 2,
       "version_minor": 0
      },
      "text/plain": [
       "HBox(children=(IntProgress(value=0, description='Hashing dataframe contents', max=49189, style=ProgressStyle(d…"
      ]
     },
     "metadata": {},
     "output_type": "display_data"
    },
    {
     "name": "stdout",
     "output_type": "stream",
     "text": [
      "\n",
      "Target filename with dataframe hash is population-ed6ac62a7a9b94a02b27bc6b74b30306.csv.gz\n",
      "Writing dataframe to temp file /var/folders/z4/ymtx_b595ngcqjv1bwwv9qjh0000gn/T/populationth80ww2g.csv.gz\n"
     ]
    },
    {
     "data": {
      "application/vnd.jupyter.widget-view+json": {
       "model_id": "53e4c0b47f874ccfbf3edfe627eccaf9",
       "version_major": 2,
       "version_minor": 0
      },
      "text/plain": [
       "HBox(children=(IntProgress(value=0, description='Uploading', max=8625098, style=ProgressStyle(description_widt…"
      ]
     },
     "metadata": {},
     "output_type": "display_data"
    },
    {
     "name": "stdout",
     "output_type": "stream",
     "text": [
      "\n",
      "Job running, started at 2022-03-30 20:03:31.244000\n",
      "Finished building new contexts\n"
     ]
    },
    {
     "data": {
      "application/vnd.jupyter.widget-view+json": {
       "model_id": "b12f2229dc9f47f98ca5cbad7401fb42",
       "version_major": 2,
       "version_minor": 0
      },
      "text/plain": [
       "HBox(children=(IntProgress(value=1, bar_style='info', description='Rows processed', max=1, style=ProgressStyle…"
      ]
     },
     "metadata": {},
     "output_type": "display_data"
    },
    {
     "name": "stdout",
     "output_type": "stream",
     "text": [
      "\n",
      "Job completed: EnrichPredictJobResult(report_filenames=[])\n"
     ]
    },
    {
     "data": {
      "application/vnd.jupyter.widget-view+json": {
       "model_id": "53fb71658e8345d28b91aa41ffc022b8",
       "version_major": 2,
       "version_minor": 0
      },
      "text/plain": [
       "HBox(children=(IntProgress(value=1, bar_style='info', description='Downloading to /var/folders/z4/ymtx_b595ngc…"
      ]
     },
     "metadata": {},
     "output_type": "display_data"
    },
    {
     "name": "stdout",
     "output_type": "stream",
     "text": [
      "\n",
      "Job running, started at 2022-03-30 20:03:44.997000\n",
      "Finished building new contexts\n",
      "Job completed: EnrichPredictJobResult(report_filenames=[])\n"
     ]
    },
    {
     "data": {
      "application/vnd.jupyter.widget-view+json": {
       "model_id": "257867258aae4cb8974ede08bdad7e95",
       "version_major": 2,
       "version_minor": 0
      },
      "text/plain": [
       "HBox(children=(IntProgress(value=1, bar_style='info', description='Downloading to /var/folders/z4/ymtx_b595ngc…"
      ]
     },
     "metadata": {},
     "output_type": "display_data"
    },
    {
     "name": "stdout",
     "output_type": "stream",
     "text": [
      "\n",
      "Job running, started at 2022-03-30 20:03:50.295000\n",
      "Finished building new contexts\n"
     ]
    },
    {
     "data": {
      "application/vnd.jupyter.widget-view+json": {
       "model_id": "e016da7cc4294361b7e9839b989faf79",
       "version_major": 2,
       "version_minor": 0
      },
      "text/plain": [
       "HBox(children=(IntProgress(value=1, bar_style='info', description='Rows processed', max=1, style=ProgressStyle…"
      ]
     },
     "metadata": {},
     "output_type": "display_data"
    },
    {
     "name": "stdout",
     "output_type": "stream",
     "text": [
      "\n",
      "Job completed: EnrichPredictJobResult(report_filenames=[])\n"
     ]
    },
    {
     "data": {
      "application/vnd.jupyter.widget-view+json": {
       "model_id": "177ce4be83f243148925f150b11e1463",
       "version_major": 2,
       "version_minor": 0
      },
      "text/plain": [
       "HBox(children=(IntProgress(value=1, bar_style='info', description='Downloading to /var/folders/z4/ymtx_b595ngc…"
      ]
     },
     "metadata": {},
     "output_type": "display_data"
    },
    {
     "name": "stdout",
     "output_type": "stream",
     "text": [
      "\n"
     ]
    }
   ],
   "source": [
    "######## NEED TO CHANGE THIS FOR EACH PROJECT IF NON-DEFAULT VALUES ARE USED #########\n",
    "\n",
    "# Change the default settings to match those from the UI\n",
    "train = client.upload_dataframe(df_sample[df_sample.splitColumn == 'Train'], \n",
    "                                project_name = model.project_name,\n",
    "                                target_path='train.csv.gz',\n",
    "                                overwrite = True)\n",
    "train.source.settings.format.use_escaping = True\n",
    "\n",
    "test = client.upload_dataframe(df_sample[df_sample.splitColumn == 'Test'], \n",
    "                               project_name = model.project_name,\n",
    "                               target_path = 'test.csv.gz', \n",
    "                               overwrite = True)\n",
    "test.source.settings.format.use_escaping = True\n",
    "\n",
    "population = client.upload_dataframe(df_pop, \n",
    "                               project_name = model.project_name,\n",
    "                               target_path = 'population.csv.gz', \n",
    "                               overwrite = True)\n",
    "population.source.settings.format.use_escaping = True\n",
    "\n",
    "######################################################################################\n",
    "\n",
    "EnrichParams = sb.EnrichParams(inputs = [train], \n",
    "                               enforce_boolean_numeric = True,\n",
    "                              include_target_column_if_present = True)\n",
    "\n",
    "enrich_object = model.enrich(EnrichParams)\n",
    "df_train_enriched = enrich_object.results_dataframe()\n",
    "\n",
    "EnrichParams = sb.EnrichParams(inputs = [test], \n",
    "                               enforce_boolean_numeric = True,\n",
    "                              include_target_column_if_present = True)\n",
    "\n",
    "enrich_object = model.enrich(EnrichParams)\n",
    "df_test_enriched = enrich_object.results_dataframe()\n",
    "\n",
    "\n",
    "EnrichParams = sb.EnrichParams(inputs = [population], \n",
    "                               enforce_boolean_numeric = True,\n",
    "                              include_target_column_if_present = True)\n",
    "\n",
    "enrich_object = model.enrich(EnrichParams)\n",
    "df_population_enriched = enrich_object.results_dataframe()"
   ]
  },
  {
   "cell_type": "code",
   "execution_count": 8,
   "metadata": {},
   "outputs": [],
   "source": [
    "df_features = model.features()\n",
    "df_train_enriched = clean_enriched_data(df_train_enriched, df_features, target)\n",
    "df_test_enriched = clean_enriched_data(df_test_enriched, df_features, target)\n",
    "df_population_enriched = clean_enriched_data(df_population_enriched, df_features, target)\n",
    "\n",
    "Y_train = df_train_enriched[target]\n",
    "Y_test = df_test_enriched[target]\n",
    "Y_population = df_population_enriched[target]"
   ]
  },
  {
   "cell_type": "code",
   "execution_count": 9,
   "metadata": {},
   "outputs": [
    {
     "data": {
      "text/html": [
       "<div>\n",
       "<style scoped>\n",
       "    .dataframe tbody tr th:only-of-type {\n",
       "        vertical-align: middle;\n",
       "    }\n",
       "\n",
       "    .dataframe tbody tr th {\n",
       "        vertical-align: top;\n",
       "    }\n",
       "\n",
       "    .dataframe thead th {\n",
       "        text-align: right;\n",
       "    }\n",
       "</style>\n",
       "<table border=\"1\" class=\"dataframe\">\n",
       "  <thead>\n",
       "    <tr style=\"text-align: right;\">\n",
       "      <th></th>\n",
       "      <th>feature</th>\n",
       "      <th>RIG</th>\n",
       "      <th>support</th>\n",
       "      <th>% Missing</th>\n",
       "      <th>train_rig</th>\n",
       "      <th>test_rig</th>\n",
       "      <th>population_rig</th>\n",
       "      <th>percent_difference</th>\n",
       "    </tr>\n",
       "  </thead>\n",
       "  <tbody>\n",
       "    <tr>\n",
       "      <th>206</th>\n",
       "      <td>upperCaseRatio(desc) inRange (0.0156 to 0.0161)</td>\n",
       "      <td>0.003452</td>\n",
       "      <td>84</td>\n",
       "      <td>0.0%</td>\n",
       "      <td>0.002913</td>\n",
       "      <td>0.002732</td>\n",
       "      <td>2.156748e-05</td>\n",
       "      <td>1.561457e+01</td>\n",
       "    </tr>\n",
       "    <tr>\n",
       "      <th>172</th>\n",
       "      <td>The percent of Set(off, faster) in (slidingSub...</td>\n",
       "      <td>0.003580</td>\n",
       "      <td>36</td>\n",
       "      <td>99%</td>\n",
       "      <td>0.003580</td>\n",
       "      <td>0.000012</td>\n",
       "      <td>2.669192e-04</td>\n",
       "      <td>5.383761e-11</td>\n",
       "    </tr>\n",
       "    <tr>\n",
       "      <th>138</th>\n",
       "      <td>zipWithIndex(stemmedWordsWithoutCommonTerms(de...</td>\n",
       "      <td>0.004078</td>\n",
       "      <td>92</td>\n",
       "      <td>83%</td>\n",
       "      <td>0.004078</td>\n",
       "      <td>0.000076</td>\n",
       "      <td>1.815481e-04</td>\n",
       "      <td>1.576136e-11</td>\n",
       "    </tr>\n",
       "    <tr>\n",
       "      <th>174</th>\n",
       "      <td>35.0 Weeks ago the value of (unemployment_rate...</td>\n",
       "      <td>0.003733</td>\n",
       "      <td>261</td>\n",
       "      <td>73%</td>\n",
       "      <td>0.003733</td>\n",
       "      <td>0.004486</td>\n",
       "      <td>1.128608e-04</td>\n",
       "      <td>1.289573e-11</td>\n",
       "    </tr>\n",
       "    <tr>\n",
       "      <th>155</th>\n",
       "      <td>zipWithIndex(slidingSubsets(desc)) for (have, ...</td>\n",
       "      <td>0.003879</td>\n",
       "      <td>18</td>\n",
       "      <td>96%</td>\n",
       "      <td>0.003879</td>\n",
       "      <td>0.001754</td>\n",
       "      <td>1.260922e-07</td>\n",
       "      <td>1.242180e-11</td>\n",
       "    </tr>\n",
       "    <tr>\n",
       "      <th>213</th>\n",
       "      <td>zipWithIndex(slidingSubsets(desc)) for (high, ...</td>\n",
       "      <td>0.003880</td>\n",
       "      <td>39</td>\n",
       "      <td>98%</td>\n",
       "      <td>0.003880</td>\n",
       "      <td>0.000192</td>\n",
       "      <td>2.049978e-05</td>\n",
       "      <td>1.241923e-11</td>\n",
       "    </tr>\n",
       "    <tr>\n",
       "      <th>110</th>\n",
       "      <td>The percent of Set(to, off, the) in (slidingSu...</td>\n",
       "      <td>0.003880</td>\n",
       "      <td>39</td>\n",
       "      <td>98%</td>\n",
       "      <td>0.003880</td>\n",
       "      <td>0.001484</td>\n",
       "      <td>7.916272e-05</td>\n",
       "      <td>1.241923e-11</td>\n",
       "    </tr>\n",
       "    <tr>\n",
       "      <th>113</th>\n",
       "      <td>The percent of Set(to, this) in (slidingSubset...</td>\n",
       "      <td>0.003880</td>\n",
       "      <td>39</td>\n",
       "      <td>84%</td>\n",
       "      <td>0.003880</td>\n",
       "      <td>0.003163</td>\n",
       "      <td>2.163384e-04</td>\n",
       "      <td>1.241923e-11</td>\n",
       "    </tr>\n",
       "    <tr>\n",
       "      <th>208</th>\n",
       "      <td>zipWithIndex(desc) for but inRange (65.5 to 93.5)</td>\n",
       "      <td>0.003880</td>\n",
       "      <td>39</td>\n",
       "      <td>91%</td>\n",
       "      <td>0.003880</td>\n",
       "      <td>0.000365</td>\n",
       "      <td>6.463539e-05</td>\n",
       "      <td>1.241923e-11</td>\n",
       "    </tr>\n",
       "    <tr>\n",
       "      <th>150</th>\n",
       "      <td>The percent of currently in (desc) inRange (0....</td>\n",
       "      <td>0.004097</td>\n",
       "      <td>82</td>\n",
       "      <td>94%</td>\n",
       "      <td>0.004097</td>\n",
       "      <td>0.000414</td>\n",
       "      <td>3.429212e-04</td>\n",
       "      <td>1.174948e-11</td>\n",
       "    </tr>\n",
       "  </tbody>\n",
       "</table>\n",
       "</div>"
      ],
      "text/plain": [
       "                                               feature       RIG  support  \\\n",
       "206    upperCaseRatio(desc) inRange (0.0156 to 0.0161)  0.003452       84   \n",
       "172  The percent of Set(off, faster) in (slidingSub...  0.003580       36   \n",
       "138  zipWithIndex(stemmedWordsWithoutCommonTerms(de...  0.004078       92   \n",
       "174  35.0 Weeks ago the value of (unemployment_rate...  0.003733      261   \n",
       "155  zipWithIndex(slidingSubsets(desc)) for (have, ...  0.003879       18   \n",
       "213  zipWithIndex(slidingSubsets(desc)) for (high, ...  0.003880       39   \n",
       "110  The percent of Set(to, off, the) in (slidingSu...  0.003880       39   \n",
       "113  The percent of Set(to, this) in (slidingSubset...  0.003880       39   \n",
       "208  zipWithIndex(desc) for but inRange (65.5 to 93.5)  0.003880       39   \n",
       "150  The percent of currently in (desc) inRange (0....  0.004097       82   \n",
       "\n",
       "    % Missing  train_rig  test_rig  population_rig  percent_difference  \n",
       "206      0.0%   0.002913  0.002732    2.156748e-05        1.561457e+01  \n",
       "172       99%   0.003580  0.000012    2.669192e-04        5.383761e-11  \n",
       "138       83%   0.004078  0.000076    1.815481e-04        1.576136e-11  \n",
       "174       73%   0.003733  0.004486    1.128608e-04        1.289573e-11  \n",
       "155       96%   0.003879  0.001754    1.260922e-07        1.242180e-11  \n",
       "213       98%   0.003880  0.000192    2.049978e-05        1.241923e-11  \n",
       "110       98%   0.003880  0.001484    7.916272e-05        1.241923e-11  \n",
       "113       84%   0.003880  0.003163    2.163384e-04        1.241923e-11  \n",
       "208       91%   0.003880  0.000365    6.463539e-05        1.241923e-11  \n",
       "150       94%   0.004097  0.000414    3.429212e-04        1.174948e-11  "
      ]
     },
     "execution_count": 9,
     "metadata": {},
     "output_type": "execute_result"
    }
   ],
   "source": [
    "df_metrics = df_features[['feature', 'RIG', 'support', '% Missing']].copy()\n",
    "\n",
    "rigs = []\n",
    "for feature in df_features.booleanFeatureName:\n",
    "    rigs.append(rig(df_train_enriched[feature], Y_train))\n",
    "df_metrics['train_rig'] = rigs\n",
    "\n",
    "rigs = []\n",
    "for feature in df_features.booleanFeatureName:\n",
    "    rigs.append(rig(df_test_enriched[feature], Y_test))\n",
    "    \n",
    "df_metrics['test_rig'] = rigs\n",
    "\n",
    "rigs = []\n",
    "for feature in df_features.booleanFeatureName:\n",
    "    rigs.append(rig(df_population_enriched[feature], Y_population))\n",
    "    \n",
    "df_metrics['population_rig'] = rigs\n",
    "\n",
    "df_metrics['percent_difference'] = (abs(df_features['RIG'] - df_metrics['train_rig'])/df_metrics['RIG']*100)\n",
    "df_metrics.sort_values(by = 'percent_difference', ascending=False).head(n=10)"
   ]
  },
  {
   "cell_type": "markdown",
   "metadata": {},
   "source": [
    "Clean features where I can't get the RIGs to match due to parsing issues"
   ]
  },
  {
   "cell_type": "code",
   "execution_count": 10,
   "metadata": {},
   "outputs": [
    {
     "data": {
      "text/plain": [
       "True    299\n",
       "Name: percent_difference, dtype: int64"
      ]
     },
     "execution_count": 10,
     "metadata": {},
     "output_type": "execute_result"
    }
   ],
   "source": [
    "mask = df_metrics['percent_difference'] < 1\n",
    "df_metrics = df_metrics[mask].reset_index(drop=True)\n",
    "\n",
    "mask = df_metrics['percent_difference'] < 1\n",
    "mask.value_counts()"
   ]
  },
  {
   "cell_type": "code",
   "execution_count": 11,
   "metadata": {},
   "outputs": [
    {
     "name": "stdout",
     "output_type": "stream",
     "text": [
      "Test bias \t\t= 0.003333167439018554\n",
      "Population bias \t= 0.003858860112306103\n"
     ]
    },
    {
     "data": {
      "image/png": "[encoded data removed]",
      "text/plain": [
       "<Figure size 864x360 with 2 Axes>"
      ]
     },
     "metadata": {
      "needs_background": "light"
     },
     "output_type": "display_data"
    }
   ],
   "source": [
    "df_metrics['test_bias'] = df_metrics['train_rig'] - df_metrics['test_rig']\n",
    "df_metrics['population_bias'] = df_metrics['train_rig'] - df_metrics['population_rig']\n",
    "\n",
    "plot_bias(df_metrics, number_of_bins = 30)"
   ]
  },
  {
   "cell_type": "markdown",
   "metadata": {},
   "source": [
    "## Regression - King County"
   ]
  },
  {
   "cell_type": "code",
   "execution_count": 14,
   "metadata": {},
   "outputs": [
    {
     "data": {
      "text/plain": [
       "((5402, 20), (21610, 20), (16208, 20))"
      ]
     },
     "execution_count": 14,
     "metadata": {},
     "output_type": "execute_result"
    }
   ],
   "source": [
    "df_full = pd.read_csv('./Data/KingCountyHouseSales_with_random_parition_column.csv.gz')\n",
    "df_sample = df_full.sample(frac = 0.25, random_state = 42 )\n",
    "df_pop = df_full[~df_full.index.isin(df_sample.index)]\n",
    "df_sample.shape, df_full.shape, df_pop.shape"
   ]
  },
  {
   "cell_type": "code",
   "execution_count": 15,
   "metadata": {},
   "outputs": [],
   "source": [
    "model = client.revision(project_name = 'King_County_Bias_test', revision_id = 7)\n",
    "target = 'price'"
   ]
  },
  {
   "cell_type": "code",
   "execution_count": 16,
   "metadata": {},
   "outputs": [
    {
     "data": {
      "application/vnd.jupyter.widget-view+json": {
       "model_id": "ee5749b81eca41db80283d254f54976f",
       "version_major": 2,
       "version_minor": 0
      },
      "text/plain": [
       "HBox(children=(IntProgress(value=0, description='Hashing dataframe contents', max=4297, style=ProgressStyle(de…"
      ]
     },
     "metadata": {},
     "output_type": "display_data"
    },
    {
     "name": "stdout",
     "output_type": "stream",
     "text": [
      "\n",
      "Target filename with dataframe hash is dataframe-8ee539cf34536f8e4e9133fd851d2161.tsv.gz\n",
      "Job running, started at 2022-03-30 20:08:22.511000\n",
      "Finished building new contexts\n"
     ]
    },
    {
     "data": {
      "application/vnd.jupyter.widget-view+json": {
       "model_id": "968e98088e7245e495cfbd6e45d81b82",
       "version_major": 2,
       "version_minor": 0
      },
      "text/plain": [
       "HBox(children=(IntProgress(value=1, bar_style='info', description='Rows processed', max=1, style=ProgressStyle…"
      ]
     },
     "metadata": {},
     "output_type": "display_data"
    },
    {
     "name": "stdout",
     "output_type": "stream",
     "text": [
      "\n",
      "Job completed: EnrichPredictJobResult(report_filenames=[])\n"
     ]
    },
    {
     "data": {
      "application/vnd.jupyter.widget-view+json": {
       "model_id": "cab05269d045467794bb8f5e551917c7",
       "version_major": 2,
       "version_minor": 0
      },
      "text/plain": [
       "HBox(children=(IntProgress(value=1, bar_style='info', description='Downloading to /var/folders/z4/ymtx_b595ngc…"
      ]
     },
     "metadata": {},
     "output_type": "display_data"
    },
    {
     "name": "stdout",
     "output_type": "stream",
     "text": [
      "\n"
     ]
    },
    {
     "data": {
      "application/vnd.jupyter.widget-view+json": {
       "model_id": "e344df7887fa4ef5a27c0b9aacb42d22",
       "version_major": 2,
       "version_minor": 0
      },
      "text/plain": [
       "HBox(children=(IntProgress(value=0, description='Hashing dataframe contents', max=1105, style=ProgressStyle(de…"
      ]
     },
     "metadata": {},
     "output_type": "display_data"
    },
    {
     "name": "stdout",
     "output_type": "stream",
     "text": [
      "\n",
      "Target filename with dataframe hash is dataframe-75a2a6d4a9e25bdbf391f58808b3515e.tsv.gz\n",
      "Job running, started at 2022-03-30 20:08:51.098000\n",
      "Finished building new contexts\n",
      "Job completed: EnrichPredictJobResult(report_filenames=[])\n"
     ]
    },
    {
     "data": {
      "application/vnd.jupyter.widget-view+json": {
       "model_id": "7051437ab0ad438bb77d4b1a503a7042",
       "version_major": 2,
       "version_minor": 0
      },
      "text/plain": [
       "HBox(children=(IntProgress(value=1, bar_style='info', description='Downloading to /var/folders/z4/ymtx_b595ngc…"
      ]
     },
     "metadata": {},
     "output_type": "display_data"
    },
    {
     "name": "stdout",
     "output_type": "stream",
     "text": [
      "\n"
     ]
    },
    {
     "data": {
      "application/vnd.jupyter.widget-view+json": {
       "model_id": "59d89624f26b4886b2d8899231297f18",
       "version_major": 2,
       "version_minor": 0
      },
      "text/plain": [
       "HBox(children=(IntProgress(value=0, description='Hashing dataframe contents', max=4297, style=ProgressStyle(de…"
      ]
     },
     "metadata": {},
     "output_type": "display_data"
    },
    {
     "name": "stdout",
     "output_type": "stream",
     "text": [
      "\n",
      "Target filename with dataframe hash is dataframe-8ee539cf34536f8e4e9133fd851d2161.tsv.gz\n",
      "Job running, started at 2022-03-30 20:09:23.081000\n",
      "Finished building new contexts\n"
     ]
    },
    {
     "data": {
      "application/vnd.jupyter.widget-view+json": {
       "model_id": "abaaa6e2d6ec40e697e40775faf153e4",
       "version_major": 2,
       "version_minor": 0
      },
      "text/plain": [
       "HBox(children=(IntProgress(value=1, bar_style='info', description='Rows processed', max=1, style=ProgressStyle…"
      ]
     },
     "metadata": {},
     "output_type": "display_data"
    },
    {
     "name": "stdout",
     "output_type": "stream",
     "text": [
      "\n",
      "Job completed: EnrichPredictJobResult(report_filenames=[])\n"
     ]
    },
    {
     "data": {
      "application/vnd.jupyter.widget-view+json": {
       "model_id": "ef12cf860bef4fa19aa0215f31f352f1",
       "version_major": 2,
       "version_minor": 0
      },
      "text/plain": [
       "HBox(children=(IntProgress(value=1, bar_style='info', description='Downloading to /var/folders/z4/ymtx_b595ngc…"
      ]
     },
     "metadata": {},
     "output_type": "display_data"
    },
    {
     "name": "stdout",
     "output_type": "stream",
     "text": [
      "\n"
     ]
    },
    {
     "data": {
      "application/vnd.jupyter.widget-view+json": {
       "model_id": "d82df546cf31412a81a7b041548729ca",
       "version_major": 2,
       "version_minor": 0
      },
      "text/plain": [
       "HBox(children=(IntProgress(value=0, description='Hashing dataframe contents', max=16208, style=ProgressStyle(d…"
      ]
     },
     "metadata": {},
     "output_type": "display_data"
    },
    {
     "name": "stdout",
     "output_type": "stream",
     "text": [
      "\n",
      "Target filename with dataframe hash is dataframe-25d2a12f945cf09020d95a3d28eaed9d.tsv.gz\n",
      "Job running, started at 2022-03-30 20:09:55.601000\n",
      "Finished building new contexts\n"
     ]
    },
    {
     "data": {
      "application/vnd.jupyter.widget-view+json": {
       "model_id": "6651039005674e459f2315501be3b94e",
       "version_major": 2,
       "version_minor": 0
      },
      "text/plain": [
       "HBox(children=(IntProgress(value=1, bar_style='info', description='Rows processed', max=1, style=ProgressStyle…"
      ]
     },
     "metadata": {},
     "output_type": "display_data"
    },
    {
     "name": "stdout",
     "output_type": "stream",
     "text": [
      "\n",
      "Job completed: EnrichPredictJobResult(report_filenames=[])\n"
     ]
    },
    {
     "data": {
      "application/vnd.jupyter.widget-view+json": {
       "model_id": "a9fc8c26efce45e1a9a0d360b00941d0",
       "version_major": 2,
       "version_minor": 0
      },
      "text/plain": [
       "HBox(children=(IntProgress(value=1, bar_style='info', description='Downloading to /var/folders/z4/ymtx_b595ngc…"
      ]
     },
     "metadata": {},
     "output_type": "display_data"
    },
    {
     "name": "stdout",
     "output_type": "stream",
     "text": [
      "\n"
     ]
    }
   ],
   "source": [
    "EnrichParams = sb.EnrichParams(inputs = [df_sample[df_sample.splitColumn == 'Train']], \n",
    "                               enforce_boolean_numeric = True,\n",
    "                              include_target_column_if_present = True)\n",
    "\n",
    "enrich_object = model.enrich(EnrichParams)\n",
    "df_train_enriched = enrich_object.results_dataframe()\n",
    "\n",
    "EnrichParams = sb.EnrichParams(inputs = [df_sample[df_sample.splitColumn == 'Test']], \n",
    "                               enforce_boolean_numeric = True,\n",
    "                              include_target_column_if_present = True)\n",
    "\n",
    "enrich_object = model.enrich(EnrichParams)\n",
    "df_test_enriched = enrich_object.results_dataframe()\n",
    "\n",
    "EnrichParams = sb.EnrichParams(inputs = [df_sample[df_sample.splitColumn == 'Train']], \n",
    "                               enforce_boolean_numeric = True,\n",
    "                              include_target_column_if_present = True)\n",
    "\n",
    "enrich_object = model.enrich(EnrichParams)\n",
    "df_train_enriched = enrich_object.results_dataframe()\n",
    "\n",
    "EnrichParams = sb.EnrichParams(inputs = [df_pop], \n",
    "                               enforce_boolean_numeric = True,\n",
    "                              include_target_column_if_present = True)\n",
    "\n",
    "enrich_object = model.enrich(EnrichParams)\n",
    "df_population_enriched = enrich_object.results_dataframe()"
   ]
  },
  {
   "cell_type": "code",
   "execution_count": 17,
   "metadata": {},
   "outputs": [
    {
     "name": "stdout",
     "output_type": "stream",
     "text": [
      "[75000, 279000, 359950, 449500, 561500, 750000, 5570000]\n",
      "[75000, 279000, 359950, 449500, 561500, 750000, 5570000]\n",
      "[75000, 279000, 359950, 449500, 561500, 750000, 5570000]\n"
     ]
    }
   ],
   "source": [
    "# Get the features datarame\n",
    "df_features = model.features()\n",
    "\n",
    "# Clean the enriched data\n",
    "df_train_enriched = clean_enriched_data(df_train_enriched, df_features, target)\n",
    "df_test_enriched = clean_enriched_data(df_test_enriched, df_features, target)\n",
    "df_population_enriched = clean_enriched_data(df_population_enriched, df_features, target)\n",
    "\n",
    "# Get the binned target for RIG calculations\n",
    "Y_train = get_binned_target(df_features, df_train_enriched[target])\n",
    "Y_test = get_binned_target(df_features, df_test_enriched[target])\n",
    "Y_population = get_binned_target(df_features, df_population_enriched[target])"
   ]
  },
  {
   "cell_type": "code",
   "execution_count": 18,
   "metadata": {},
   "outputs": [
    {
     "data": {
      "text/plain": [
       "Index(['on OpenStreetMap, the circle3km around latLong does not contain \"addr:unit\"', 'on OpenStreetMap, the circle3km around latLong does not contain \"addr:unit\"_'], dtype='object')"
      ]
     },
     "execution_count": 18,
     "metadata": {},
     "output_type": "execute_result"
    }
   ],
   "source": [
    "# Two features have the same name\n",
    "df_train_enriched.columns[df_train_enriched.columns.str.contains('does not contain \"addr:unit\"')]"
   ]
  },
  {
   "cell_type": "code",
   "execution_count": 19,
   "metadata": {},
   "outputs": [],
   "source": [
    "# Change the feature name to match the column name\n",
    "df_features.loc[240,'booleanFeatureName'] = 'on OpenStreetMap, the circle3km around latLong does not contain \"addr:unit\"_'"
   ]
  },
  {
   "cell_type": "markdown",
   "metadata": {},
   "source": [
    "Create the metrics dataframe"
   ]
  },
  {
   "cell_type": "code",
   "execution_count": 20,
   "metadata": {},
   "outputs": [
    {
     "data": {
      "text/html": [
       "<div>\n",
       "<style scoped>\n",
       "    .dataframe tbody tr th:only-of-type {\n",
       "        vertical-align: middle;\n",
       "    }\n",
       "\n",
       "    .dataframe tbody tr th {\n",
       "        vertical-align: top;\n",
       "    }\n",
       "\n",
       "    .dataframe thead th {\n",
       "        text-align: right;\n",
       "    }\n",
       "</style>\n",
       "<table border=\"1\" class=\"dataframe\">\n",
       "  <thead>\n",
       "    <tr style=\"text-align: right;\">\n",
       "      <th></th>\n",
       "      <th>feature</th>\n",
       "      <th>RIG</th>\n",
       "      <th>support</th>\n",
       "      <th>% Missing</th>\n",
       "      <th>train_rig</th>\n",
       "      <th>test_rig</th>\n",
       "      <th>population_rig</th>\n",
       "      <th>percent_difference</th>\n",
       "    </tr>\n",
       "  </thead>\n",
       "  <tbody>\n",
       "    <tr>\n",
       "      <th>292</th>\n",
       "      <td>the number of occurrences of (shop, convenienc...</td>\n",
       "      <td>0.020699</td>\n",
       "      <td>987</td>\n",
       "      <td>7%</td>\n",
       "      <td>0.020864</td>\n",
       "      <td>0.016594</td>\n",
       "      <td>0.017410</td>\n",
       "      <td>0.796537</td>\n",
       "    </tr>\n",
       "    <tr>\n",
       "      <th>223</th>\n",
       "      <td>Foreign-Pct of zipcode &lt; 17.75</td>\n",
       "      <td>0.013364</td>\n",
       "      <td>2042</td>\n",
       "      <td>0.0%</td>\n",
       "      <td>0.013446</td>\n",
       "      <td>0.020694</td>\n",
       "      <td>0.013260</td>\n",
       "      <td>0.617323</td>\n",
       "    </tr>\n",
       "    <tr>\n",
       "      <th>51</th>\n",
       "      <td>Males-30-34 of zipcode notInRange (874.5 to 1,...</td>\n",
       "      <td>0.036633</td>\n",
       "      <td>2047</td>\n",
       "      <td>NaN</td>\n",
       "      <td>0.036777</td>\n",
       "      <td>0.030488</td>\n",
       "      <td>0.038060</td>\n",
       "      <td>0.392218</td>\n",
       "    </tr>\n",
       "    <tr>\n",
       "      <th>216</th>\n",
       "      <td>Females-30-34 of zipcode &lt; 931</td>\n",
       "      <td>0.023229</td>\n",
       "      <td>1448</td>\n",
       "      <td>NaN</td>\n",
       "      <td>0.023314</td>\n",
       "      <td>0.026881</td>\n",
       "      <td>0.024723</td>\n",
       "      <td>0.363123</td>\n",
       "    </tr>\n",
       "    <tr>\n",
       "      <th>249</th>\n",
       "      <td>Males-35-39 of zipcode inRange (1,013 to 1,526.5)</td>\n",
       "      <td>0.024977</td>\n",
       "      <td>1928</td>\n",
       "      <td>NaN</td>\n",
       "      <td>0.025065</td>\n",
       "      <td>0.023641</td>\n",
       "      <td>0.028616</td>\n",
       "      <td>0.354959</td>\n",
       "    </tr>\n",
       "    <tr>\n",
       "      <th>47</th>\n",
       "      <td>Males-25-29 of zipcode inRange (860.5 to 1,905)</td>\n",
       "      <td>0.037634</td>\n",
       "      <td>1925</td>\n",
       "      <td>NaN</td>\n",
       "      <td>0.037765</td>\n",
       "      <td>0.028757</td>\n",
       "      <td>0.038838</td>\n",
       "      <td>0.349385</td>\n",
       "    </tr>\n",
       "    <tr>\n",
       "      <th>286</th>\n",
       "      <td>floor(bathrooms) == 2.0</td>\n",
       "      <td>0.011925</td>\n",
       "      <td>2107</td>\n",
       "      <td>0.0%</td>\n",
       "      <td>0.011884</td>\n",
       "      <td>0.007782</td>\n",
       "      <td>0.012266</td>\n",
       "      <td>0.337254</td>\n",
       "    </tr>\n",
       "    <tr>\n",
       "      <th>73</th>\n",
       "      <td>the distance of accountant from latLong accord...</td>\n",
       "      <td>0.015920</td>\n",
       "      <td>1864</td>\n",
       "      <td>53%</td>\n",
       "      <td>0.015973</td>\n",
       "      <td>0.020417</td>\n",
       "      <td>0.018379</td>\n",
       "      <td>0.332933</td>\n",
       "    </tr>\n",
       "    <tr>\n",
       "      <th>113</th>\n",
       "      <td>the distance of Pizza Hut from latLong accordi...</td>\n",
       "      <td>0.014757</td>\n",
       "      <td>1656</td>\n",
       "      <td>61%</td>\n",
       "      <td>0.014806</td>\n",
       "      <td>0.014263</td>\n",
       "      <td>0.012231</td>\n",
       "      <td>0.331012</td>\n",
       "    </tr>\n",
       "    <tr>\n",
       "      <th>132</th>\n",
       "      <td>Females-85-89 of zipcode &gt;= 202</td>\n",
       "      <td>0.010859</td>\n",
       "      <td>1861</td>\n",
       "      <td>NaN</td>\n",
       "      <td>0.010826</td>\n",
       "      <td>0.007489</td>\n",
       "      <td>0.010180</td>\n",
       "      <td>0.302392</td>\n",
       "    </tr>\n",
       "  </tbody>\n",
       "</table>\n",
       "</div>"
      ],
      "text/plain": [
       "                                               feature       RIG  support  \\\n",
       "292  the number of occurrences of (shop, convenienc...  0.020699      987   \n",
       "223                     Foreign-Pct of zipcode < 17.75  0.013364     2042   \n",
       "51   Males-30-34 of zipcode notInRange (874.5 to 1,...  0.036633     2047   \n",
       "216                     Females-30-34 of zipcode < 931  0.023229     1448   \n",
       "249  Males-35-39 of zipcode inRange (1,013 to 1,526.5)  0.024977     1928   \n",
       "47     Males-25-29 of zipcode inRange (860.5 to 1,905)  0.037634     1925   \n",
       "286                            floor(bathrooms) == 2.0  0.011925     2107   \n",
       "73   the distance of accountant from latLong accord...  0.015920     1864   \n",
       "113  the distance of Pizza Hut from latLong accordi...  0.014757     1656   \n",
       "132                    Females-85-89 of zipcode >= 202  0.010859     1861   \n",
       "\n",
       "    % Missing  train_rig  test_rig  population_rig  percent_difference  \n",
       "292        7%   0.020864  0.016594        0.017410            0.796537  \n",
       "223      0.0%   0.013446  0.020694        0.013260            0.617323  \n",
       "51        NaN   0.036777  0.030488        0.038060            0.392218  \n",
       "216       NaN   0.023314  0.026881        0.024723            0.363123  \n",
       "249       NaN   0.025065  0.023641        0.028616            0.354959  \n",
       "47        NaN   0.037765  0.028757        0.038838            0.349385  \n",
       "286      0.0%   0.011884  0.007782        0.012266            0.337254  \n",
       "73        53%   0.015973  0.020417        0.018379            0.332933  \n",
       "113       61%   0.014806  0.014263        0.012231            0.331012  \n",
       "132       NaN   0.010826  0.007489        0.010180            0.302392  "
      ]
     },
     "execution_count": 20,
     "metadata": {},
     "output_type": "execute_result"
    }
   ],
   "source": [
    "df_metrics = df_features[['feature', 'RIG', 'support', '% Missing']].copy()\n",
    "\n",
    "rigs = []\n",
    "for feature in df_features.booleanFeatureName:\n",
    "    rigs.append(rig(df_train_enriched[feature], Y_train))\n",
    "df_metrics['train_rig'] = rigs\n",
    "\n",
    "rigs = []\n",
    "for feature in df_features.booleanFeatureName:\n",
    "    rigs.append(rig(df_test_enriched[feature], Y_test))\n",
    "    \n",
    "df_metrics['test_rig'] = rigs\n",
    "\n",
    "rigs = []\n",
    "for feature in df_features.booleanFeatureName:\n",
    "    rigs.append(rig(df_population_enriched[feature], Y_population))\n",
    "    \n",
    "df_metrics['population_rig'] = rigs\n",
    "\n",
    "# Check Python RIG calculations match DP - Having all values less than 1% is acceptable \n",
    "# This calculation is a proxy for consistent file parsing between the platform and the SDK\n",
    "df_metrics['percent_difference'] = (abs(df_features['RIG'] - df_metrics['train_rig'])/df_metrics['RIG']*100)\n",
    "df_metrics.sort_values(by = 'percent_difference', ascending = False).head(n = 10)"
   ]
  },
  {
   "cell_type": "code",
   "execution_count": 21,
   "metadata": {},
   "outputs": [
    {
     "name": "stdout",
     "output_type": "stream",
     "text": [
      "Test bias \t\t= 0.002597904749907705\n",
      "Population bias \t= 0.003061118341594997\n"
     ]
    },
    {
     "data": {
      "image/png": "[encoded data removed]",
      "text/plain": [
       "<Figure size 864x360 with 2 Axes>"
      ]
     },
     "metadata": {
      "needs_background": "light"
     },
     "output_type": "display_data"
    }
   ],
   "source": [
    "# Calculate the biases\n",
    "df_metrics['test_bias'] = df_metrics['train_rig'] - df_metrics['test_rig']\n",
    "df_metrics['population_bias'] = df_metrics['train_rig'] - df_metrics['population_rig']\n",
    "\n",
    "plot_bias(df_metrics)"
   ]
  },
  {
   "cell_type": "code",
   "execution_count": 22,
   "metadata": {},
   "outputs": [
    {
     "data": {
      "text/html": [
       "<div>\n",
       "<style scoped>\n",
       "    .dataframe tbody tr th:only-of-type {\n",
       "        vertical-align: middle;\n",
       "    }\n",
       "\n",
       "    .dataframe tbody tr th {\n",
       "        vertical-align: top;\n",
       "    }\n",
       "\n",
       "    .dataframe thead th {\n",
       "        text-align: right;\n",
       "    }\n",
       "</style>\n",
       "<table border=\"1\" class=\"dataframe\">\n",
       "  <thead>\n",
       "    <tr style=\"text-align: right;\">\n",
       "      <th></th>\n",
       "      <th>RIG</th>\n",
       "      <th>support</th>\n",
       "      <th>train_rig</th>\n",
       "      <th>test_rig</th>\n",
       "      <th>population_rig</th>\n",
       "      <th>percent_difference</th>\n",
       "      <th>test_bias</th>\n",
       "      <th>population_bias</th>\n",
       "    </tr>\n",
       "  </thead>\n",
       "  <tbody>\n",
       "    <tr>\n",
       "      <th>RIG</th>\n",
       "      <td>1.000000</td>\n",
       "      <td>0.443032</td>\n",
       "      <td>0.999998</td>\n",
       "      <td>0.977200</td>\n",
       "      <td>0.991037</td>\n",
       "      <td>-0.119952</td>\n",
       "      <td>0.170872</td>\n",
       "      <td>0.167643</td>\n",
       "    </tr>\n",
       "    <tr>\n",
       "      <th>support</th>\n",
       "      <td>0.443032</td>\n",
       "      <td>1.000000</td>\n",
       "      <td>0.442984</td>\n",
       "      <td>0.417741</td>\n",
       "      <td>0.471152</td>\n",
       "      <td>0.554112</td>\n",
       "      <td>0.146009</td>\n",
       "      <td>-0.163450</td>\n",
       "    </tr>\n",
       "    <tr>\n",
       "      <th>train_rig</th>\n",
       "      <td>0.999998</td>\n",
       "      <td>0.442984</td>\n",
       "      <td>1.000000</td>\n",
       "      <td>0.977226</td>\n",
       "      <td>0.991077</td>\n",
       "      <td>-0.119038</td>\n",
       "      <td>0.170761</td>\n",
       "      <td>0.167357</td>\n",
       "    </tr>\n",
       "    <tr>\n",
       "      <th>test_rig</th>\n",
       "      <td>0.977200</td>\n",
       "      <td>0.417741</td>\n",
       "      <td>0.977226</td>\n",
       "      <td>1.000000</td>\n",
       "      <td>0.977477</td>\n",
       "      <td>-0.130135</td>\n",
       "      <td>-0.042213</td>\n",
       "      <td>0.097194</td>\n",
       "    </tr>\n",
       "    <tr>\n",
       "      <th>population_rig</th>\n",
       "      <td>0.991037</td>\n",
       "      <td>0.471152</td>\n",
       "      <td>0.991077</td>\n",
       "      <td>0.977477</td>\n",
       "      <td>1.000000</td>\n",
       "      <td>-0.081410</td>\n",
       "      <td>0.127585</td>\n",
       "      <td>0.034453</td>\n",
       "    </tr>\n",
       "    <tr>\n",
       "      <th>percent_difference</th>\n",
       "      <td>-0.119952</td>\n",
       "      <td>0.554112</td>\n",
       "      <td>-0.119038</td>\n",
       "      <td>-0.130135</td>\n",
       "      <td>-0.081410</td>\n",
       "      <td>1.000000</td>\n",
       "      <td>0.043787</td>\n",
       "      <td>-0.290389</td>\n",
       "    </tr>\n",
       "    <tr>\n",
       "      <th>test_bias</th>\n",
       "      <td>0.170872</td>\n",
       "      <td>0.146009</td>\n",
       "      <td>0.170761</td>\n",
       "      <td>-0.042213</td>\n",
       "      <td>0.127585</td>\n",
       "      <td>0.043787</td>\n",
       "      <td>1.000000</td>\n",
       "      <td>0.336668</td>\n",
       "    </tr>\n",
       "    <tr>\n",
       "      <th>population_bias</th>\n",
       "      <td>0.167643</td>\n",
       "      <td>-0.163450</td>\n",
       "      <td>0.167357</td>\n",
       "      <td>0.097194</td>\n",
       "      <td>0.034453</td>\n",
       "      <td>-0.290389</td>\n",
       "      <td>0.336668</td>\n",
       "      <td>1.000000</td>\n",
       "    </tr>\n",
       "  </tbody>\n",
       "</table>\n",
       "</div>"
      ],
      "text/plain": [
       "                         RIG   support  train_rig  test_rig  population_rig  \\\n",
       "RIG                 1.000000  0.443032   0.999998  0.977200        0.991037   \n",
       "support             0.443032  1.000000   0.442984  0.417741        0.471152   \n",
       "train_rig           0.999998  0.442984   1.000000  0.977226        0.991077   \n",
       "test_rig            0.977200  0.417741   0.977226  1.000000        0.977477   \n",
       "population_rig      0.991037  0.471152   0.991077  0.977477        1.000000   \n",
       "percent_difference -0.119952  0.554112  -0.119038 -0.130135       -0.081410   \n",
       "test_bias           0.170872  0.146009   0.170761 -0.042213        0.127585   \n",
       "population_bias     0.167643 -0.163450   0.167357  0.097194        0.034453   \n",
       "\n",
       "                    percent_difference  test_bias  population_bias  \n",
       "RIG                          -0.119952   0.170872         0.167643  \n",
       "support                       0.554112   0.146009        -0.163450  \n",
       "train_rig                    -0.119038   0.170761         0.167357  \n",
       "test_rig                     -0.130135  -0.042213         0.097194  \n",
       "population_rig               -0.081410   0.127585         0.034453  \n",
       "percent_difference            1.000000   0.043787        -0.290389  \n",
       "test_bias                     0.043787   1.000000         0.336668  \n",
       "population_bias              -0.290389   0.336668         1.000000  "
      ]
     },
     "execution_count": 22,
     "metadata": {},
     "output_type": "execute_result"
    }
   ],
   "source": [
    "df_metrics.corr()"
   ]
  },
  {
   "cell_type": "markdown",
   "metadata": {},
   "source": [
    "Just OSM features"
   ]
  },
  {
   "cell_type": "code",
   "execution_count": 23,
   "metadata": {},
   "outputs": [
    {
     "name": "stdout",
     "output_type": "stream",
     "text": [
      "Test bias \t\t= 0.0026215001528212024\n",
      "Population bias \t= 0.0032267684697485782\n"
     ]
    },
    {
     "data": {
      "image/png": "[encoded data removed]",
      "text/plain": [
       "<Figure size 864x360 with 2 Axes>"
      ]
     },
     "metadata": {
      "needs_background": "light"
     },
     "output_type": "display_data"
    }
   ],
   "source": [
    "osm_features = df_features[df_features['Context names'] == 'OSM, OpenStreetMap']['feature'].tolist()\n",
    "plot_bias(df_metrics[df_metrics.feature.isin(osm_features)])"
   ]
  },
  {
   "cell_type": "markdown",
   "metadata": {},
   "source": [
    "## Estimating the null rig distribution"
   ]
  },
  {
   "cell_type": "code",
   "execution_count": 24,
   "metadata": {},
   "outputs": [
    {
     "data": {
      "text/plain": [
       "4296"
      ]
     },
     "execution_count": 24,
     "metadata": {},
     "output_type": "execute_result"
    }
   ],
   "source": [
    "Y_train.value_counts().sum()"
   ]
  },
  {
   "cell_type": "code",
   "execution_count": 25,
   "metadata": {},
   "outputs": [],
   "source": [
    "log = '''22:00:06 - Learning to predict (regression) price (revision #7). Evaluating using RMSE\n",
    "22:00:06 - context data-frames:\n",
    "22:00:07 - processing context dataframe World Knowledge contextName:World Knowledge\n",
    "22:00:07 - processing context dataframe -nugl0g9k9brra4odp6zpf76l0f8fvk-census.csv.gz contextName:Census\n",
    "22:00:07 - context dataframe -nugl0g9k9brra4odp6zpf76l0f8fvk-census.csv.gz matched generator 'Lookup'\n",
    "22:00:07 - detected world knowledge context:\n",
    "DataFrame(World Knowledge)\n",
    "22:00:32 - Best feature (RIG: 0.0027) of 1 from waterfront is: waterfront == 1\n",
    "22:00:32 - Best feature (RIG: 0.0049) of 1 from date is: dayOfMonth(date) < 8\n",
    "22:00:32 - Best feature (RIG: 0.004) of 6 from condition is: condition == 4\n",
    "22:00:32 - Best feature (RIG: 0.0261) of 5 from view is: view >= 1\n",
    "22:00:32 - Best feature (RIG: 0.0266) of 5 from floors is: floors < 1.25\n",
    "22:00:32 - Best feature (RIG: 0.1002) of 1 from grade is: cbrt(grade) >= 2.04\n",
    "22:00:32 - Best feature (RIG: 0.0117) of 2 from sqft_lot is: log(sqft_lot) < 8.548\n",
    "22:00:32 - Best feature (RIG: 0.0701) of 1 from sqft_above is: sqft_above >= 2055\n",
    "22:00:32 - Best feature (RIG: 0.0117) of 1 from sqft_lot is: log10(sqft_lot) < 3.712\n",
    "22:00:32 - Best feature (RIG: 0.0989) of 1 from sqft_living is: log1p(sqft_living) >= 7.742\n",
    "22:00:32 - Best feature (RIG: 0.0989) of 1 from sqft_living is: toDouble(sqft_living) >= 2303.0\n",
    "22:00:32 - Best feature (RIG: 0.0989) of 2 from sqft_living is: sqft_living >= 2303\n",
    "22:00:32 - Best feature (RIG: 0.0262) of 10 from bedrooms is: bedrooms >= 4\n",
    "22:00:32 - Best feature (RIG: 0.0701) of 2 from sqft_above is: toDouble(sqft_above) >= 2055.0\n",
    "22:00:32 - Best feature (RIG: 0.0262) of 9 from bedrooms is: inverse(bedrooms) < 0.292\n",
    "22:00:32 - Best feature (RIG: 0.0044) of 13 from date is: getMonth(date) inRange (7 to 8)\n",
    "22:00:32 - Best feature (RIG: 0.0701) of 1 from sqft_above is: cubed(sqft_above) >= 8.6784705E9\n",
    "22:00:32 - Best feature (RIG: 0.1002) of 11 from grade is: arithmeticNot(grade) < -7.5\n",
    "22:00:32 - Best feature (RIG: 0.0509) of 9 from bathrooms is: exp(bathrooms) >= 10.835\n",
    "22:00:32 - Best feature (RIG: 0.1002) of 12 from grade is: grade >= 9\n",
    "22:00:32 - Best feature (RIG: 0.0262) of 9 from bedrooms is: relu(bedrooms) >= 3.5\n",
    "22:00:32 - Best feature (RIG: 0.0213) of 1 from sqft_basement is: sqft_basement >= 785\n",
    "22:00:32 - Best feature (RIG: 0.0509) of 27 from bathrooms is: roundToInt(bathrooms) >= 3\n",
    "22:00:32 - Best feature (RIG: 0.0262) of 9 from bedrooms is: toDouble(bedrooms) >= 3.5\n",
    "22:00:32 - Best feature (RIG: 0.0213) of 2 from sqft_basement is: squared(sqft_basement) >= 616250.0\n",
    "22:00:32 - Best feature (RIG: 0.0117) of 1 from sqft_lot is: cbrt(sqft_lot) < 17.277\n",
    "22:00:32 - Best feature (RIG: 0.0989) of 1 from sqft_living is: squared(sqft_living) >= 5303813.0\n",
    "22:00:32 - Best feature (RIG: 0.003) of 1 from yr_renovated is: sigmoid(yr_renovated) != 0.5\n",
    "22:00:32 - Best feature (RIG: 0.0701) of 1 from sqft_above is: squared(sqft_above) >= 4223050.0\n",
    "22:00:32 - Best feature (RIG: 0.0213) of 3 from sqft_basement is: |sqft_basement| >= 785\n",
    "22:00:32 - Best feature (RIG: 0.0137) of 2 from yr_built is: |yr_built| notInRange (1,917 to 1,998)\n",
    "22:00:32 - Best feature (RIG: 0.0509) of 32 from bathrooms is: cubed(bathrooms) >= 13.508\n",
    "22:00:32 - Best feature (RIG: 0.0137) of 2 from yr_built is: sqrt(yr_built) notInRange (43.78 to 44.7)\n",
    "22:00:32 - Best feature (RIG: 0.0213) of 2 from sqft_basement is: reluHalf(sqft_basement) >= 785.0\n",
    "22:00:32 - Best feature (RIG: 0.0137) of 2 from yr_built is: yr_built notInRange (1,917 to 1,998)\n",
    "22:00:32 - Best feature (RIG: 0.0117) of 1 from sqft_lot is: sqft_lot < 5157\n",
    "22:00:32 - Best feature (RIG: 0.0137) of 3 from yr_built is: toDouble(yr_built) notInRange (1,916.5 to 1,998.5)\n",
    "22:00:32 - Best feature (RIG: 0.0062) of 1 from yr_renovated is: cbrt(yr_renovated) >= 12.573\n",
    "22:00:32 - Best feature (RIG: 0.1002) of 11 from grade is: squared(grade) >= 72.5\n",
    "22:00:32 - Best feature (RIG: 0.0062) of 2 from yr_renovated is: yr_renovated >= 1988\n",
    "22:00:32 - Best feature (RIG: 0.0062) of 2 from yr_renovated is: |yr_renovated| >= 1988\n",
    "22:00:32 - Best feature (RIG: 0.0509) of 27 from bathrooms is: squared(bathrooms) >= 5.656\n",
    "22:00:32 - Best feature (RIG: 0.0059) of 70 from date is: dateToDouble(date) inRange (2014.05.07 12:00, 2014.05.15 12:00)\n",
    "22:00:33 - Best feature (RIG: 0.0436) of 2 from zipcode is: College-Pct of zipcode inRange (17 to 28)\n",
    "22:00:33 - Best feature (RIG: 0.0347) of 1 from zipcode is: HU-LP-Gas of zipcode >= 326\n",
    "22:00:33 - Best feature (RIG: 0.0202) of 2 from zipcode is: HU-Occupied of zipcode notInRange (8,269.5 to 19,776)\n",
    "22:00:33 - Best feature (RIG: 0.0269) of 2 from zipcode is: Males-10-14 of zipcode >= 927\n",
    "22:00:33 - Best feature (RIG: 0.0953) of 3 from zipcode is: Black of zipcode >= 1304\n",
    "22:00:33 - Best feature (RIG: 0.0098) of 1 from zipcode is: HU-Other of zipcode < 3\n",
    "22:00:33 - Best feature (RIG: 0.0336) of 4 from zipcode is: Females-30-34 of zipcode notInRange (985 to 1,934)\n",
    "22:00:33 - Best feature (RIG: 0.013) of 13 from zipcode is: HU-Coal of zipcode inRange (3 to 13.5)\n",
    "22:00:33 - Best feature (RIG: 0.0585) of 4 from zipcode is: HH-Cash-Assist of zipcode < 257\n",
    "22:00:33 - Best feature (RIG: 0.0304) of 2 from zipcode is: Males-75-79 of zipcode inRange (215 to 343)\n",
    "22:00:33 - Best feature (RIG: 0.0245) of 2 from zipcode is: Females-60-64 of zipcode inRange (1,184.5 to 1,365.5)\n",
    "22:00:33 - Best feature (RIG: 0.117) of 3 from zipcode is: Per-Cap-Income of zipcode >= 42179\n",
    "22:00:33 - Best feature (RIG: 0.0673) of 2 from zipcode is: Other-Race of zipcode < 530\n",
    "22:00:33 - Best feature (RIG: 0.037) of 3 from zipcode is: Males-25-29 of zipcode inRange (1,079 to 1,432)\n",
    "22:00:33 - Best feature (RIG: 0.0357) of 4 from zipcode is: Males-5-9 of zipcode inRange (1,354 to 1,836)\n",
    "22:00:33 - Best feature (RIG: 0.0373) of 2 from zipcode is: Females-25-29 of zipcode notInRange (788 to 1,880)\n",
    "22:00:33 - Best feature (RIG: 0.0138) of 70 from zipcode is: latLong of zipcode == LatLong(47.62, -122.2)\n",
    "22:00:33 - Best feature (RIG: 0.0044) of 282 from date is: monthOfYear(date) inRange (8 to 9)\n",
    "22:00:33 - Best feature (RIG: 0.0265) of 4 from zipcode is: Males-35-39 of zipcode inRange (1,013 to 1,526.5)\n",
    "22:00:33 - Best feature (RIG: 0.0775) of 3 from zipcode is: HH-Retire-Amt of zipcode >= 25295\n",
    "22:00:33 - Best feature (RIG: 0.0269) of 4 from zipcode is: Males-80-84 of zipcode notInRange (114.5 to 271)\n",
    "22:00:33 - Best feature (RIG: 0.0749) of 4 from zipcode is: HH-Earnings-Amt of zipcode >= 95739\n",
    "22:00:33 - Best feature (RIG: 0.062) of 3 from zipcode is: HH-SSI of zipcode < 289\n",
    "22:00:33 - Best feature (RIG: 0.0377) of 4 from zipcode is: Males-0-4 of zipcode inRange (1,296 to 1,463.5)\n",
    "22:00:33 - Best feature (RIG: 0.0383) of 4 from zipcode is: Males-30-34 of zipcode notInRange (941.5 to 1,563.5)\n",
    "22:00:33 - Best feature (RIG: 0.1422) of 1 from zipcode is: Degree-Pct of zipcode >= 49.8\n",
    "22:00:33 - Best feature (RIG: 0.1057) of 27 from zipcode is: Hawaiian of zipcode >= 195\n",
    "22:00:33 - Best feature (RIG: 0.0213) of 4 from zipcode is: HH-Earnings of zipcode inRange (9,441.5 to 10,166.5)\n",
    "22:00:33 - Best feature (RIG: 0.0239) of 4 from zipcode is: Asian of zipcode inRange (3,705.5 to 4,279)\n",
    "22:00:33 - Best feature (RIG: 0.0187) of 1 from zipcode is: Land-Area of zipcode < 5\n",
    "22:00:33 - Best feature (RIG: 0.0628) of 4 from zipcode is: Hispanic of zipcode >= 3070\n",
    "22:00:33 - Best feature (RIG: 0.076) of 1 from sqft_living15 is: cbrt(sqft_living15) >= 12.976\n",
    "22:00:33 - Best feature (RIG: 0.0255) of 6 from zipcode is: HH-Retire of zipcode >= 1767\n",
    "22:00:33 - Best feature (RIG: 0.0533) of 4 from zipcode is: Poverty-Pct of zipcode >= 8.25\n",
    "22:00:33 - Best feature (RIG: 0.076) of 1 from sqft_living15 is: relu(sqft_living15) >= 2185.0\n",
    "22:00:33 - Best feature (RIG: 0.1192) of 2 from zipcode is: Family-Avg-Income of zipcode >= 114776\n",
    "22:00:33 - Best feature (RIG: 0.0239) of 2 from zipcode is: Males-45-49 of zipcode inRange (662 to 749.5)\n",
    "22:00:33 - Best feature (RIG: 0.1028) of 2 from zipcode is: Family-Med-Income of zipcode >= 103132\n",
    "22:00:33 - Best feature (RIG: 0.076) of 2 from sqft_living15 is: sqft_living15 >= 2185\n",
    "22:00:33 - Best feature (RIG: 0.0275) of 2 from zipcode is: Females-80-84 of zipcode inRange (249.5 to 275.5)\n",
    "22:00:33 - Best feature (RIG: 0.076) of 1 from sqft_living15 is: squared(sqft_living15) >= 4774250.0\n",
    "22:00:33 - Best feature (RIG: 0.0388) of 1 from zipcode is: Females-15-19 of zipcode >= 934\n",
    "22:00:33 - Best feature (RIG: 0.0159) of 13 from zipcode is: HU-Solar of zipcode inRange (17.5 to 23)\n",
    "22:00:33 - Best feature (RIG: 0.0436) of 3 from zipcode is: HH-Med-Income of zipcode >= 82058\n",
    "22:00:33 - Best feature (RIG: 0.0269) of 3 from zipcode is: HU-Electric of zipcode notInRange (3,175 to 7,677.5)\n",
    "22:00:33 - Best feature (RIG: 0.015) of 1 from sqft_lot15 is: log10(sqft_lot15) >= 4.062\n",
    "22:00:33 - Best feature (RIG: 0.048) of 3 from zipcode is: HH-SS-Amt of zipcode >= 19052\n",
    "22:00:33 - Best feature (RIG: 0.015) of 2 from sqft_lot15 is: sqft_lot15 >= 11546\n",
    "22:00:33 - Best feature (RIG: 0.015) of 1 from sqft_lot15 is: log1p(sqft_lot15) >= 9.354\n",
    "22:00:33 - Best feature (RIG: 0.0217) of 5 from zipcode is: HU-1960-1969 of zipcode inRange (182.5 to 474.5)\n",
    "22:00:33 - Best feature (RIG: 0.1378) of 1 from zipcode is: Avg-Home-Value of zipcode >= 487151\n",
    "22:00:33 - Best feature (RIG: 0.0543) of 2 from zipcode is: Females-90-Up of zipcode inRange (36.5 to 87)\n",
    "22:00:33 - Best feature (RIG: 0.015) of 1 from sqft_lot15 is: toDouble(sqft_lot15) >= 11545.5\n",
    "22:00:33 - Best feature (RIG: 0.0271) of 5 from zipcode is: Not-Hispanic of zipcode inRange (25,390.5 to 41,431.5)\n",
    "22:00:33 - Best feature (RIG: 0.0457) of 2 from zipcode is: HU-Vacant-Rent of zipcode inRange (215 to 498)\n",
    "22:00:33 - Best feature (RIG: 0.0504) of 4 from zipcode is: HU-Mobile of zipcode >= 183\n",
    "22:00:33 - Best feature (RIG: 0.0837) of 7 from zipcode is: HH-Food-Stamps of zipcode >= 908\n",
    "22:00:33 - Best feature (RIG: 0.0835) of 4 from zipcode is: Family-Size of zipcode >= 3.105\n",
    "22:00:33 - Best feature (RIG: 0.0799) of 6 from zipcode is: Indian of zipcode >= 220.5\n",
    "22:00:33 - Best feature (RIG: 0.1334) of 3 from zipcode is: Med-Home-Value of zipcode >= 418100\n",
    "22:00:33 - Best feature (RIG: 0.0518) of 8 from zipcode is: HU-Wood of zipcode < 50\n",
    "22:00:33 - Best feature (RIG: 0.0486) of 4 from zipcode is: HH-Size of zipcode < 2.435\n",
    "22:00:33 - Best feature (RIG: 0.0492) of 74 from zipcode is: HU-Before-1940 of zipcode notInRange (198.5 to 3,878)\n",
    "22:00:33 - Best feature (RIG: 0.0396) of 8 from zipcode is: Median-Age-F of zipcode notInRange (34.55 to 38.95)\n",
    "22:00:33 - Best feature (RIG: 0.0138) of 85 from zipcode is: prefixes(zipcode) contains \"98004\"\n",
    "22:00:33 - Best feature (RIG: 0.002) of 1000 from zipcode latLong is: (latLong, zipcode) == (LatLong(47.72, -122.29), \"98125\")\n",
    "22:00:33 - Best feature (RIG: 0.002) of 1000 from zipcode latLong is: (zipcode, circle3km around latLong) == (\"98125\", GeoCircle(LatLong(47.72, -122.29), 3, com.sparkbeyond.runtime.feature.types.SBLengthUnit.`kilometer`, 100))\n",
    "22:00:33 - Best feature (RIG: 0.002) of 1000 from zipcode latLong is: (circle100m around latLong, zipcode) == (GeoCircle(LatLong(47.72, -122.29), 0.1, com.sparkbeyond.runtime.feature.types.SBLengthUnit.`kilometer`, 100), \"98125\")\n",
    "22:00:33 - Best feature (RIG: 0.002) of 1000 from zipcode latLong is: (zipcode, latLong) == (\"98125\", LatLong(47.72, -122.29))\n",
    "22:01:28 - Best feature (RIG: 0.1173) of 1000 from latLong is: latitude(latLong) < 47.536\n",
    "22:02:38 - Best feature (RIG: 0.0546) of 1000 from latLong is: the distance of underground from latLong according to OpenStreetMap < 2.939\n",
    "22:02:38 - Best feature (RIG: 0.0533) of 1000 from latLong is: on OpenStreetMap, the circle3km around latLong contains \"underground\"\n",
    "22:02:42 - Best feature (RIG: 0.0946) of 1000 from latLong is: latLong0(latLong) != LatLong(48, -122)\n",
    "22:02:42 - stage end, feature generation took 129.5 seconds to this point\n",
    "22:02:48 - feature generation on 21 column subsets took 129.5 seconds\n",
    "22:02:48 - Best feature (RIG: 0.0032) of 6 from condition is: condition != 3\n",
    "22:02:48 - Best feature (RIG: 0.0761) of 1 from sqft_living15 is: cbrt(sqft_living15) >= 12.976\n",
    "22:02:48 - Best feature (RIG: 7.0E-4) of 1 from date is: dayOfMonth(date) < 14\n",
    "22:02:48 - Best feature (RIG: 0.0975) of 1 from grade is: cbrt(grade) >= 2.04\n",
    "22:02:48 - Best feature (RIG: 9.0E-4) of 2 from date is: getMonth(date) == 11\n",
    "22:02:48 - Best feature (RIG: 0.0975) of 12 from grade is: grade >= 9\n",
    "22:02:48 - Best feature (RIG: 0.0084) of 1 from sqft_lot is: log10(sqft_lot) >= 4.083\n",
    "22:02:48 - Best feature (RIG: 0.0761) of 1 from sqft_living15 is: relu(sqft_living15) >= 2185.0\n",
    "22:02:48 - Best feature (RIG: 0.004) of 1 from waterfront is: waterfront == 1\n",
    "22:02:48 - Best feature (RIG: 0.0445) of 8 from bathrooms is: exp(bathrooms) < 8.438\n",
    "22:02:48 - Best feature (RIG: 0.0039) of 1 from yr_renovated is: sigmoid(yr_renovated) >= 0.75\n",
    "22:02:48 - Best feature (RIG: 0.0084) of 2 from sqft_lot is: log(sqft_lot) >= 9.401\n",
    "22:02:48 - Best feature (RIG: 0.0284) of 5 from floors is: floors == 1.0\n",
    "22:02:48 - Best feature (RIG: 0.0271) of 5 from view is: view >= 1\n",
    "22:02:48 - Best feature (RIG: 0.0975) of 11 from grade is: cubed(grade) >= 620.5\n",
    "22:02:48 - Best feature (RIG: 0.0063) of 2 from yr_renovated is: yr_renovated >= 1987\n",
    "22:02:48 - Best feature (RIG: 0.0445) of 8 from bathrooms is: sqrt(bathrooms) < 1.457\n",
    "22:02:48 - Best feature (RIG: 0.0761) of 1 from sqft_living15 is: squared(sqft_living15) >= 4774250.0\n",
    "22:02:48 - Best feature (RIG: 0.0063) of 2 from yr_renovated is: |yr_renovated| >= 1987\n",
    "22:02:48 - Best feature (RIG: 0.0761) of 2 from sqft_living15 is: sqft_living15 >= 2185\n",
    "22:02:48 - Best feature (RIG: 0.0102) of 2 from sqft_lot15 is: sqft_lot15 >= 10503\n",
    "22:02:48 - Best feature (RIG: 0.0445) of 11 from bathrooms is: cubed(bathrooms) < 9.695\n",
    "22:02:48 - Best feature (RIG: 0.0102) of 1 from sqft_lot15 is: log10(sqft_lot15) >= 4.021\n",
    "22:02:48 - Best feature (RIG: 0.0975) of 11 from grade is: squared(grade) >= 72.5\n",
    "22:02:48 - Best feature (RIG: 0.0063) of 1 from yr_renovated is: cbrt(yr_renovated) >= 12.571\n",
    "22:02:48 - Best feature (RIG: 0.0102) of 1 from sqft_lot15 is: log1p(sqft_lot15) >= 9.26\n",
    "22:02:48 - Best feature (RIG: 0.0015) of 17 from date is: dateToDouble(date) inRange (2014.05.26 12:00, 2014.06.19 12:00)\n",
    "22:02:48 - Best feature (RIG: 0.098) of 2 from sqft_living is: sqft_living >= 2303\n",
    "22:02:48 - Best feature (RIG: 0.098) of 1 from sqft_living is: toDouble(sqft_living) >= 2303.0\n",
    "22:02:48 - Best feature (RIG: 0.0445) of 8 from bathrooms is: bathrooms < 2.125\n",
    "22:02:48 - Best feature (RIG: 0.0135) of 2 from yr_built is: |yr_built| inRange (1,942 to 1,986)\n",
    "22:02:48 - Best feature (RIG: 0.0135) of 2 from yr_built is: yr_built inRange (1,942 to 1,986)\n",
    "22:02:48 - Best feature (RIG: 0.0141) of 3 from yr_built is: inverse(yr_built) notInRange (5.01378823186351E-4 to 5.182690164035703E-4)\n",
    "22:02:48 - Best feature (RIG: 0.0135) of 2 from yr_built is: sqrt(yr_built) inRange (44.06 to 44.57)\n",
    "22:02:48 - Best feature (RIG: 0.0328) of 8 from bedrooms is: inverse(bedrooms) < 0.292\n",
    "22:02:48 - Best feature (RIG: 0.0328) of 8 from bedrooms is: log1p(bedrooms) >= 1.498\n",
    "22:02:48 - Best feature (RIG: 0.098) of 1 from sqft_living is: log1p(sqft_living) >= 7.742\n",
    "22:02:48 - Best feature (RIG: 0.0328) of 9 from bedrooms is: bedrooms >= 4\n",
    "22:02:48 - Best feature (RIG: 0.0672) of 1 from sqft_above is: sqft_above >= 1825\n",
    "22:02:48 - Best feature (RIG: 0.0014) of 59 from date is: date == Wed Oct 15 00:00:00 UTC 2014\n",
    "22:02:48 - Best feature (RIG: 0.0084) of 1 from sqft_lot is: log1p(sqft_lot) >= 9.401\n",
    "22:02:48 - Best feature (RIG: 0.0672) of 2 from sqft_above is: toDouble(sqft_above) >= 1825.0\n",
    "22:02:48 - Best feature (RIG: 0.0102) of 1 from sqft_lot15 is: toDouble(sqft_lot15) >= 10503.0\n",
    "22:02:48 - Best feature (RIG: 0.098) of 1 from sqft_living is: squared(sqft_living) >= 5303813.0\n",
    "22:02:48 - Best feature (RIG: 0.0672) of 1 from sqft_above is: squared(sqft_above) >= 3330650.0\n",
    "22:02:48 - Best feature (RIG: 0.0672) of 1 from sqft_above is: cubed(sqft_above) >= 6.0785275E9\n",
    "22:02:48 - Best feature (RIG: 0.0212) of 1 from sqft_basement is: sqft_basement >= 725\n",
    "22:02:48 - Best feature (RIG: 0.0212) of 2 from sqft_basement is: arithmeticNot(sqft_basement) < -724.0\n",
    "22:02:48 - Best feature (RIG: 0.0212) of 2 from sqft_basement is: squared(sqft_basement) >= 525650.0\n",
    "22:02:48 - Best feature (RIG: 0.0328) of 8 from bedrooms is: sqrt(bedrooms) >= 1.866\n",
    "22:02:48 - Best feature (RIG: 0.0212) of 3 from sqft_basement is: |sqft_basement| >= 725\n",
    "22:02:48 - Best feature (RIG: 0.0084) of 1 from sqft_lot is: sqft_lot >= 12100\n",
    "22:02:48 - Best feature (RIG: 0.0228) of 2 from zipcode is: HU-Occupied of zipcode notInRange (8,269.5 to 19,776)\n",
    "22:02:48 - Best feature (RIG: 0.0254) of 2 from zipcode is: Males-10-14 of zipcode >= 927\n",
    "22:02:48 - Best feature (RIG: 0.0507) of 2 from zipcode is: College-Pct of zipcode inRange (17 to 28)\n",
    "22:02:48 - Best feature (RIG: 0.072) of 1 from zipcode is: Other-Race of zipcode < 530\n",
    "22:02:48 - Best feature (RIG: 0.0973) of 3 from zipcode is: Black of zipcode >= 1304\n",
    "22:02:48 - Best feature (RIG: 0.0617) of 4 from zipcode is: HH-Cash-Assist of zipcode < 257\n",
    "22:02:48 - Best feature (RIG: 0.0131) of 13 from zipcode is: HU-Coal of zipcode inRange (3 to 13.5)\n",
    "22:02:49 - Best feature (RIG: 0.0381) of 2 from zipcode is: Females-25-29 of zipcode notInRange (788 to 2,058.5)\n",
    "22:02:49 - Best feature (RIG: 0.0273) of 1 from zipcode is: HU-LP-Gas of zipcode >= 326\n",
    "22:02:49 - Best feature (RIG: 0.0381) of 2 from zipcode is: Males-75-79 of zipcode inRange (215 to 343)\n",
    "22:02:49 - Best feature (RIG: 0.034) of 4 from zipcode is: Females-30-34 of zipcode notInRange (985 to 1,934)\n",
    "22:02:49 - Best feature (RIG: 0.0766) of 3 from zipcode is: HH-Earnings-Amt of zipcode >= 95739\n",
    "22:02:49 - Best feature (RIG: 0.012) of 67 from zipcode is: latLong of zipcode == LatLong(47.62, -122.2)\n",
    "22:02:49 - Best feature (RIG: 0.0376) of 3 from zipcode is: Males-25-29 of zipcode inRange (860.5 to 1,905)\n",
    "22:02:49 - Best feature (RIG: 0.0254) of 4 from zipcode is: Males-80-84 of zipcode notInRange (114.5 to 271)\n",
    "22:02:49 - Best feature (RIG: 0.1193) of 4 from zipcode is: Per-Cap-Income of zipcode >= 42179\n",
    "22:02:49 - Best feature (RIG: 0.0346) of 3 from zipcode is: Males-5-9 of zipcode inRange (1,354 to 1,836)\n",
    "22:02:49 - Best feature (RIG: 0.0657) of 3 from zipcode is: HH-SSI of zipcode < 289\n",
    "22:02:49 - Best feature (RIG: 0.0106) of 1 from zipcode is: HU-Other of zipcode < 3\n",
    "22:02:49 - Best feature (RIG: 0.0242) of 2 from zipcode is: Females-60-64 of zipcode inRange (1,184.5 to 1,365.5)\n",
    "22:02:49 - Best feature (RIG: 0.0778) of 3 from zipcode is: HH-Avg-Income of zipcode >= 106346\n",
    "22:02:49 - Best feature (RIG: 0.0299) of 4 from zipcode is: Tot-Females of zipcode inRange (15,314 to 23,093)\n",
    "22:02:49 - Best feature (RIG: 0.0348) of 3 from zipcode is: Males-0-4 of zipcode < 792\n",
    "22:02:49 - Best feature (RIG: 0.0315) of 6 from zipcode is: HH-Retire of zipcode >= 1767\n",
    "22:02:49 - Best feature (RIG: 0.0208) of 4 from zipcode is: Water-Area of zipcode < 0.35\n",
    "22:02:49 - Best feature (RIG: 0.1106) of 24 from zipcode is: Hawaiian of zipcode >= 166\n",
    "22:02:49 - Best feature (RIG: 0.1414) of 1 from zipcode is: Degree-Pct of zipcode >= 50.6\n",
    "22:02:49 - Best feature (RIG: 0.0269) of 4 from zipcode is: Asian of zipcode inRange (3,705.5 to 4,279)\n",
    "22:02:49 - Best feature (RIG: 0.0217) of 1 from zipcode is: Land-Area of zipcode < 5\n",
    "22:02:49 - Best feature (RIG: 0.0653) of 4 from zipcode is: Hispanic of zipcode >= 3070\n",
    "22:02:49 - Best feature (RIG: 0.0366) of 4 from zipcode is: Males-30-34 of zipcode notInRange (874.5 to 1,563.5)\n",
    "22:02:49 - Best feature (RIG: 0.1245) of 2 from zipcode is: Family-Avg-Income of zipcode >= 114776\n",
    "22:02:49 - Best feature (RIG: 0.0179) of 1 from zipcode is: Males-45-49 of zipcode < 1139\n",
    "22:02:49 - Best feature (RIG: 0.0542) of 4 from zipcode is: Poverty-Pct of zipcode >= 8.25\n",
    "22:02:49 - Best feature (RIG: 0.0469) of 3 from zipcode is: HH-Med-Income of zipcode >= 81279\n",
    "22:02:49 - Best feature (RIG: 0.1028) of 3 from zipcode is: Family-Med-Income of zipcode >= 103132\n",
    "22:02:49 - Best feature (RIG: 0.0253) of 2 from zipcode is: Females-80-84 of zipcode inRange (249.5 to 275.5)\n",
    "22:02:49 - Best feature (RIG: 0.0197) of 13 from zipcode is: HU-Solar of zipcode inRange (11.5 to 23)\n",
    "22:02:49 - Best feature (RIG: 0.0192) of 3 from zipcode is: Males-70-74 of zipcode < 289\n",
    "22:02:49 - Best feature (RIG: 0.0459) of 2 from zipcode is: HU-Vacant-Rent of zipcode inRange (215 to 498)\n",
    "22:02:49 - Best feature (RIG: 0.0244) of 3 from zipcode is: HU-Electric of zipcode notInRange (3,175 to 11,967)\n",
    "22:02:49 - Best feature (RIG: 0.0852) of 7 from zipcode is: HH-Food-Stamps of zipcode >= 908\n",
    "22:02:49 - Best feature (RIG: 0.0398) of 1 from zipcode is: Females-15-19 of zipcode >= 934\n",
    "22:02:49 - Best feature (RIG: 0.0158) of 1 from zipcode is: Females-90-Up of zipcode < 87\n",
    "22:02:49 - Best feature (RIG: 0.0313) of 5 from zipcode is: Not-Hispanic of zipcode inRange (25,390.5 to 41,431.5)\n",
    "22:02:49 - Best feature (RIG: 0.0801) of 7 from zipcode is: Indian of zipcode >= 220.5\n",
    "22:02:49 - Best feature (RIG: 0.0471) of 4 from zipcode is: HH-Size of zipcode < 2.435\n",
    "22:02:49 - Best feature (RIG: 0.0455) of 4 from zipcode is: HH-SS-Amt of zipcode notInRange (13,569.5 to 19,052)\n",
    "22:02:49 - Best feature (RIG: 0.1398) of 1 from zipcode is: Avg-Home-Value of zipcode >= 487151\n",
    "22:02:49 - Best feature (RIG: 0.0512) of 8 from zipcode is: HU-Wood of zipcode < 50\n",
    "22:02:49 - Best feature (RIG: 0.1355) of 3 from zipcode is: Med-Home-Value of zipcode >= 418100\n",
    "22:02:49 - Best feature (RIG: 0.0728) of 4 from zipcode is: Family-Size of zipcode >= 3.105\n",
    "22:02:49 - Best feature (RIG: 0.0549) of 71 from zipcode is: HU-Before-1940 of zipcode notInRange (101 to 3,878)\n",
    "22:02:49 - Best feature (RIG: 0.0562) of 4 from zipcode is: HU-Mobile of zipcode < 49\n",
    "22:02:49 - Best feature (RIG: 0.0342) of 7 from zipcode is: Median-Age-F of zipcode notInRange (34.55 to 39.3)\n",
    "22:02:49 - Best feature (RIG: 0.0123) of 82 from zipcode is: prefixes(zipcode) contains \"9807\"\n",
    "22:05:43 - Best feature (RIG: 0.1145) of 1000 from latLong is: latitude(latLong) < 47.533\n",
    "22:08:23 - Best feature (RIG: 0.0993) of 1000 from latLong is: latLong0(latLong) != LatLong(48, -122)\n",
    "22:08:40 - Best feature (RIG: 0.0493) of 1000 from latLong is: on OpenStreetMap, the circle3km around latLong for (tactile_paving, yes) < 2.919\n",
    "22:09:25 - Best feature (RIG: 0.0491) of 1000 from latLong is: on OpenStreetMap, the circle3km around latLong contains (\"tactile_paving\", \"yes\")\n",
    "22:09:26 - stage end, feature generation took 397.4 seconds to this point\n",
    "22:09:32 - feature generation on 19 column subsets took 397.4 seconds\n",
    "22:09:39 - Enriching training set with discovered features...\n",
    "22:10:04 - Enriched training set contains 307 features\n",
    "22:10:14 - Building models...\n",
    "22:10:57 - Model building completed. Test-set RMSE score of best algorithm: 156506.903'''"
   ]
  },
  {
   "cell_type": "code",
   "execution_count": 26,
   "metadata": {},
   "outputs": [
    {
     "data": {
      "text/plain": [
       "13720"
      ]
     },
     "execution_count": 26,
     "metadata": {},
     "output_type": "execute_result"
    }
   ],
   "source": [
    "operational_log_number_of_features(log)"
   ]
  },
  {
   "cell_type": "code",
   "execution_count": 27,
   "metadata": {},
   "outputs": [],
   "source": [
    "permutation_test = PermutationObject()\n",
    "\n",
    "permutation_test.set_data_parameters(nrows = 4300, class_weights = [0.2, 0.2, 0.2, 0.2, 0.2])\n",
    "\n",
    "permutation_test.create_synthetic_data()"
   ]
  },
  {
   "cell_type": "code",
   "execution_count": 28,
   "metadata": {},
   "outputs": [
    {
     "name": "stdout",
     "output_type": "stream",
     "text": [
      "Max null RIG \t\t= 0.0017912878458397497\n",
      "Median null RIG \t= 0.00024152552995304334\n",
      "1 in 13720 null RIG \t= 0.0016309840304933082\n",
      "Gain threshold \t\t= 0.0005\n",
      "CPU times: user 3min 26s, sys: 1.5 s, total: 3min 27s\n",
      "Wall time: 3min 28s\n"
     ]
    }
   ],
   "source": [
    "%%time\n",
    "permutation_test.calculate_null_rigs(permutations = 13720)"
   ]
  },
  {
   "cell_type": "code",
   "execution_count": 29,
   "metadata": {},
   "outputs": [
    {
     "name": "stdout",
     "output_type": "stream",
     "text": [
      "1935 in 13720 null RIGs greater than 0.0005 threshold\n"
     ]
    }
   ],
   "source": [
    "permutation_test.null_rigs_comparison()"
   ]
  },
  {
   "cell_type": "markdown",
   "metadata": {},
   "source": [
    "## Without OSM"
   ]
  },
  {
   "cell_type": "code",
   "execution_count": 30,
   "metadata": {},
   "outputs": [],
   "source": [
    "model = client.revision(project_name = 'King_County_Bias_test', revision_id = 8)\n",
    "target = 'price'"
   ]
  },
  {
   "cell_type": "code",
   "execution_count": 31,
   "metadata": {},
   "outputs": [
    {
     "data": {
      "application/vnd.jupyter.widget-view+json": {
       "model_id": "42d6b97b217f4ca1a5472ff3edeb08d7",
       "version_major": 2,
       "version_minor": 0
      },
      "text/plain": [
       "HBox(children=(IntProgress(value=0, description='Hashing dataframe contents', max=4297, style=ProgressStyle(de…"
      ]
     },
     "metadata": {},
     "output_type": "display_data"
    },
    {
     "name": "stdout",
     "output_type": "stream",
     "text": [
      "\n",
      "Target filename with dataframe hash is dataframe-8ee539cf34536f8e4e9133fd851d2161.tsv.gz\n",
      "Job running, started at 2022-03-30 20:15:16.917000\n",
      "Finished building new contexts\n"
     ]
    },
    {
     "data": {
      "application/vnd.jupyter.widget-view+json": {
       "model_id": "2ee17f444795478faccf6fe655b74ff5",
       "version_major": 2,
       "version_minor": 0
      },
      "text/plain": [
       "HBox(children=(IntProgress(value=1, bar_style='info', description='Rows processed', max=1, style=ProgressStyle…"
      ]
     },
     "metadata": {},
     "output_type": "display_data"
    },
    {
     "name": "stdout",
     "output_type": "stream",
     "text": [
      "\n",
      "Job completed: EnrichPredictJobResult(report_filenames=[])\n"
     ]
    },
    {
     "data": {
      "application/vnd.jupyter.widget-view+json": {
       "model_id": "7ac36223b5ed4d8f9a43e4250eed2f65",
       "version_major": 2,
       "version_minor": 0
      },
      "text/plain": [
       "HBox(children=(IntProgress(value=1, bar_style='info', description='Downloading to /var/folders/z4/ymtx_b595ngc…"
      ]
     },
     "metadata": {},
     "output_type": "display_data"
    },
    {
     "name": "stdout",
     "output_type": "stream",
     "text": [
      "\n"
     ]
    },
    {
     "data": {
      "application/vnd.jupyter.widget-view+json": {
       "model_id": "c21702985ec341dfadfae711aae3b97d",
       "version_major": 2,
       "version_minor": 0
      },
      "text/plain": [
       "HBox(children=(IntProgress(value=0, description='Hashing dataframe contents', max=1105, style=ProgressStyle(de…"
      ]
     },
     "metadata": {},
     "output_type": "display_data"
    },
    {
     "name": "stdout",
     "output_type": "stream",
     "text": [
      "\n",
      "Target filename with dataframe hash is dataframe-75a2a6d4a9e25bdbf391f58808b3515e.tsv.gz\n",
      "Job running, started at 2022-03-30 20:15:37.646000\n",
      "Finished building new contexts\n",
      "Job completed: EnrichPredictJobResult(report_filenames=[])\n"
     ]
    },
    {
     "data": {
      "application/vnd.jupyter.widget-view+json": {
       "model_id": "5ddc6cd842424dfb95fa2c00c96592a8",
       "version_major": 2,
       "version_minor": 0
      },
      "text/plain": [
       "HBox(children=(IntProgress(value=1, bar_style='info', description='Downloading to /var/folders/z4/ymtx_b595ngc…"
      ]
     },
     "metadata": {},
     "output_type": "display_data"
    },
    {
     "name": "stdout",
     "output_type": "stream",
     "text": [
      "\n"
     ]
    },
    {
     "data": {
      "application/vnd.jupyter.widget-view+json": {
       "model_id": "89b2a316e352410e8d1dd1702e49d483",
       "version_major": 2,
       "version_minor": 0
      },
      "text/plain": [
       "HBox(children=(IntProgress(value=0, description='Hashing dataframe contents', max=4297, style=ProgressStyle(de…"
      ]
     },
     "metadata": {},
     "output_type": "display_data"
    },
    {
     "name": "stdout",
     "output_type": "stream",
     "text": [
      "\n",
      "Target filename with dataframe hash is dataframe-8ee539cf34536f8e4e9133fd851d2161.tsv.gz\n",
      "Job running, started at 2022-03-30 20:15:41.196000\n",
      "Finished building new contexts\n"
     ]
    },
    {
     "data": {
      "application/vnd.jupyter.widget-view+json": {
       "model_id": "f924317d1d9f4f7289107ee33f050b1a",
       "version_major": 2,
       "version_minor": 0
      },
      "text/plain": [
       "HBox(children=(IntProgress(value=1, bar_style='info', description='Rows processed', max=1, style=ProgressStyle…"
      ]
     },
     "metadata": {},
     "output_type": "display_data"
    },
    {
     "name": "stdout",
     "output_type": "stream",
     "text": [
      "\n",
      "Job completed: EnrichPredictJobResult(report_filenames=[])\n"
     ]
    },
    {
     "data": {
      "application/vnd.jupyter.widget-view+json": {
       "model_id": "af54ff3ba82f4b2590c433e8909877a0",
       "version_major": 2,
       "version_minor": 0
      },
      "text/plain": [
       "HBox(children=(IntProgress(value=1, bar_style='info', description='Downloading to /var/folders/z4/ymtx_b595ngc…"
      ]
     },
     "metadata": {},
     "output_type": "display_data"
    },
    {
     "name": "stdout",
     "output_type": "stream",
     "text": [
      "\n"
     ]
    },
    {
     "data": {
      "application/vnd.jupyter.widget-view+json": {
       "model_id": "b39d617a13924649acefb7e9c1896e93",
       "version_major": 2,
       "version_minor": 0
      },
      "text/plain": [
       "HBox(children=(IntProgress(value=0, description='Hashing dataframe contents', max=16208, style=ProgressStyle(d…"
      ]
     },
     "metadata": {},
     "output_type": "display_data"
    },
    {
     "name": "stdout",
     "output_type": "stream",
     "text": [
      "\n",
      "Target filename with dataframe hash is dataframe-25d2a12f945cf09020d95a3d28eaed9d.tsv.gz\n",
      "Job running, started at 2022-03-30 20:15:47.566000\n",
      "Finished building new contexts\n"
     ]
    },
    {
     "data": {
      "application/vnd.jupyter.widget-view+json": {
       "model_id": "1650b69814bc4f05b5049447c795508a",
       "version_major": 2,
       "version_minor": 0
      },
      "text/plain": [
       "HBox(children=(IntProgress(value=1, bar_style='info', description='Rows processed', max=1, style=ProgressStyle…"
      ]
     },
     "metadata": {},
     "output_type": "display_data"
    },
    {
     "name": "stdout",
     "output_type": "stream",
     "text": [
      "\n",
      "Job completed: EnrichPredictJobResult(report_filenames=[])\n"
     ]
    },
    {
     "data": {
      "application/vnd.jupyter.widget-view+json": {
       "model_id": "dca915e2e35e4fc2804ba2a4be4d55ec",
       "version_major": 2,
       "version_minor": 0
      },
      "text/plain": [
       "HBox(children=(IntProgress(value=1, bar_style='info', description='Downloading to /var/folders/z4/ymtx_b595ngc…"
      ]
     },
     "metadata": {},
     "output_type": "display_data"
    },
    {
     "name": "stdout",
     "output_type": "stream",
     "text": [
      "\n"
     ]
    }
   ],
   "source": [
    "EnrichParams = sb.EnrichParams(inputs = [df_sample[df_sample.splitColumn == 'Train']], \n",
    "                               enforce_boolean_numeric = True,\n",
    "                              include_target_column_if_present = True)\n",
    "\n",
    "enrich_object = model.enrich(EnrichParams)\n",
    "df_train_enriched = enrich_object.results_dataframe()\n",
    "\n",
    "EnrichParams = sb.EnrichParams(inputs = [df_sample[df_sample.splitColumn == 'Test']], \n",
    "                               enforce_boolean_numeric = True,\n",
    "                              include_target_column_if_present = True)\n",
    "\n",
    "enrich_object = model.enrich(EnrichParams)\n",
    "df_test_enriched = enrich_object.results_dataframe()\n",
    "\n",
    "EnrichParams = sb.EnrichParams(inputs = [df_sample[df_sample.splitColumn == 'Train']], \n",
    "                               enforce_boolean_numeric = True,\n",
    "                              include_target_column_if_present = True)\n",
    "\n",
    "enrich_object = model.enrich(EnrichParams)\n",
    "df_train_enriched = enrich_object.results_dataframe()\n",
    "\n",
    "EnrichParams = sb.EnrichParams(inputs = [df_pop], \n",
    "                               enforce_boolean_numeric = True,\n",
    "                              include_target_column_if_present = True)\n",
    "\n",
    "enrich_object = model.enrich(EnrichParams)\n",
    "df_population_enriched = enrich_object.results_dataframe()"
   ]
  },
  {
   "cell_type": "code",
   "execution_count": 32,
   "metadata": {},
   "outputs": [
    {
     "name": "stdout",
     "output_type": "stream",
     "text": [
      "[75000, 279000, 359950, 449500, 561500, 750000, 5570000]\n",
      "[75000, 279000, 359950, 449500, 561500, 750000, 5570000]\n",
      "[75000, 279000, 359950, 449500, 561500, 750000, 5570000]\n"
     ]
    }
   ],
   "source": [
    "# Get the features datarame\n",
    "df_features = model.features()\n",
    "\n",
    "# Clean the enriched data\n",
    "df_train_enriched = clean_enriched_data(df_train_enriched, df_features, target)\n",
    "df_test_enriched = clean_enriched_data(df_test_enriched, df_features, target)\n",
    "df_population_enriched = clean_enriched_data(df_population_enriched, df_features, target)\n",
    "\n",
    "# Get the binned target for RIG calculations\n",
    "Y_train = get_binned_target(df_features, df_train_enriched[target])\n",
    "Y_test = get_binned_target(df_features, df_test_enriched[target])\n",
    "Y_population = get_binned_target(df_features, df_population_enriched[target])"
   ]
  },
  {
   "cell_type": "code",
   "execution_count": 33,
   "metadata": {},
   "outputs": [
    {
     "data": {
      "text/html": [
       "<div>\n",
       "<style scoped>\n",
       "    .dataframe tbody tr th:only-of-type {\n",
       "        vertical-align: middle;\n",
       "    }\n",
       "\n",
       "    .dataframe tbody tr th {\n",
       "        vertical-align: top;\n",
       "    }\n",
       "\n",
       "    .dataframe thead th {\n",
       "        text-align: right;\n",
       "    }\n",
       "</style>\n",
       "<table border=\"1\" class=\"dataframe\">\n",
       "  <thead>\n",
       "    <tr style=\"text-align: right;\">\n",
       "      <th></th>\n",
       "      <th>feature</th>\n",
       "      <th>RIG</th>\n",
       "      <th>support</th>\n",
       "      <th>% Missing</th>\n",
       "      <th>train_rig</th>\n",
       "      <th>test_rig</th>\n",
       "      <th>population_rig</th>\n",
       "      <th>percent_difference</th>\n",
       "    </tr>\n",
       "  </thead>\n",
       "  <tbody>\n",
       "    <tr>\n",
       "      <th>253</th>\n",
       "      <td>floor(bathrooms) == 0.0</td>\n",
       "      <td>0.001502</td>\n",
       "      <td>12</td>\n",
       "      <td>0.0%</td>\n",
       "      <td>0.001447</td>\n",
       "      <td>0.001811</td>\n",
       "      <td>0.001105</td>\n",
       "      <td>3.685656</td>\n",
       "    </tr>\n",
       "    <tr>\n",
       "      <th>186</th>\n",
       "      <td>prefixes(zipcode) contains \"9802\"</td>\n",
       "      <td>0.003009</td>\n",
       "      <td>358</td>\n",
       "      <td>0.0%</td>\n",
       "      <td>0.002955</td>\n",
       "      <td>0.002918</td>\n",
       "      <td>0.001827</td>\n",
       "      <td>1.787891</td>\n",
       "    </tr>\n",
       "    <tr>\n",
       "      <th>163</th>\n",
       "      <td>bedrooms == 1</td>\n",
       "      <td>0.002820</td>\n",
       "      <td>34</td>\n",
       "      <td>0.0%</td>\n",
       "      <td>0.002770</td>\n",
       "      <td>0.003263</td>\n",
       "      <td>0.001952</td>\n",
       "      <td>1.775599</td>\n",
       "    </tr>\n",
       "    <tr>\n",
       "      <th>160</th>\n",
       "      <td>sqft_lot &gt;= 12100</td>\n",
       "      <td>0.008439</td>\n",
       "      <td>838</td>\n",
       "      <td>NaN</td>\n",
       "      <td>0.008498</td>\n",
       "      <td>0.008070</td>\n",
       "      <td>0.010562</td>\n",
       "      <td>0.694571</td>\n",
       "    </tr>\n",
       "    <tr>\n",
       "      <th>134</th>\n",
       "      <td>sqft_lot15 &gt;= 10503</td>\n",
       "      <td>0.010221</td>\n",
       "      <td>926</td>\n",
       "      <td>NaN</td>\n",
       "      <td>0.010291</td>\n",
       "      <td>0.009801</td>\n",
       "      <td>0.012671</td>\n",
       "      <td>0.692608</td>\n",
       "    </tr>\n",
       "    <tr>\n",
       "      <th>178</th>\n",
       "      <td>condition != 3</td>\n",
       "      <td>0.003152</td>\n",
       "      <td>1498</td>\n",
       "      <td>0.0%</td>\n",
       "      <td>0.003172</td>\n",
       "      <td>0.002829</td>\n",
       "      <td>0.001190</td>\n",
       "      <td>0.632418</td>\n",
       "    </tr>\n",
       "    <tr>\n",
       "      <th>55</th>\n",
       "      <td>Foreign-Pct of zipcode &lt; 17.75</td>\n",
       "      <td>0.013364</td>\n",
       "      <td>2042</td>\n",
       "      <td>0.0%</td>\n",
       "      <td>0.013446</td>\n",
       "      <td>0.020694</td>\n",
       "      <td>0.013260</td>\n",
       "      <td>0.617323</td>\n",
       "    </tr>\n",
       "    <tr>\n",
       "      <th>158</th>\n",
       "      <td>condition &gt;= 4</td>\n",
       "      <td>0.002597</td>\n",
       "      <td>1462</td>\n",
       "      <td>NaN</td>\n",
       "      <td>0.002612</td>\n",
       "      <td>0.002429</td>\n",
       "      <td>0.000793</td>\n",
       "      <td>0.598438</td>\n",
       "    </tr>\n",
       "    <tr>\n",
       "      <th>94</th>\n",
       "      <td>Median-Age-F of zipcode &gt;= 39.3</td>\n",
       "      <td>0.024537</td>\n",
       "      <td>1526</td>\n",
       "      <td>0.0%</td>\n",
       "      <td>0.024678</td>\n",
       "      <td>0.030485</td>\n",
       "      <td>0.029244</td>\n",
       "      <td>0.574392</td>\n",
       "    </tr>\n",
       "    <tr>\n",
       "      <th>78</th>\n",
       "      <td>HU-Util-Gas of zipcode &lt; 3985</td>\n",
       "      <td>0.011434</td>\n",
       "      <td>936</td>\n",
       "      <td>NaN</td>\n",
       "      <td>0.011369</td>\n",
       "      <td>0.007748</td>\n",
       "      <td>0.008334</td>\n",
       "      <td>0.569107</td>\n",
       "    </tr>\n",
       "  </tbody>\n",
       "</table>\n",
       "</div>"
      ],
      "text/plain": [
       "                               feature       RIG  support % Missing  \\\n",
       "253            floor(bathrooms) == 0.0  0.001502       12      0.0%   \n",
       "186  prefixes(zipcode) contains \"9802\"  0.003009      358      0.0%   \n",
       "163                      bedrooms == 1  0.002820       34      0.0%   \n",
       "160                  sqft_lot >= 12100  0.008439      838       NaN   \n",
       "134                sqft_lot15 >= 10503  0.010221      926       NaN   \n",
       "178                     condition != 3  0.003152     1498      0.0%   \n",
       "55      Foreign-Pct of zipcode < 17.75  0.013364     2042      0.0%   \n",
       "158                     condition >= 4  0.002597     1462       NaN   \n",
       "94     Median-Age-F of zipcode >= 39.3  0.024537     1526      0.0%   \n",
       "78       HU-Util-Gas of zipcode < 3985  0.011434      936       NaN   \n",
       "\n",
       "     train_rig  test_rig  population_rig  percent_difference  \n",
       "253   0.001447  0.001811        0.001105            3.685656  \n",
       "186   0.002955  0.002918        0.001827            1.787891  \n",
       "163   0.002770  0.003263        0.001952            1.775599  \n",
       "160   0.008498  0.008070        0.010562            0.694571  \n",
       "134   0.010291  0.009801        0.012671            0.692608  \n",
       "178   0.003172  0.002829        0.001190            0.632418  \n",
       "55    0.013446  0.020694        0.013260            0.617323  \n",
       "158   0.002612  0.002429        0.000793            0.598438  \n",
       "94    0.024678  0.030485        0.029244            0.574392  \n",
       "78    0.011369  0.007748        0.008334            0.569107  "
      ]
     },
     "execution_count": 33,
     "metadata": {},
     "output_type": "execute_result"
    }
   ],
   "source": [
    "df_metrics = df_features[['feature', 'RIG', 'support', '% Missing']].copy()\n",
    "\n",
    "rigs = []\n",
    "for feature in df_features.booleanFeatureName:\n",
    "    rigs.append(rig(df_train_enriched[feature], Y_train))\n",
    "df_metrics['train_rig'] = rigs\n",
    "\n",
    "rigs = []\n",
    "for feature in df_features.booleanFeatureName:\n",
    "    rigs.append(rig(df_test_enriched[feature], Y_test))\n",
    "    \n",
    "df_metrics['test_rig'] = rigs\n",
    "\n",
    "rigs = []\n",
    "for feature in df_features.booleanFeatureName:\n",
    "    rigs.append(rig(df_population_enriched[feature], Y_population))\n",
    "    \n",
    "df_metrics['population_rig'] = rigs\n",
    "\n",
    "# Check Python RIG calculations match DP - Having all values less than 1% is acceptable \n",
    "# This calculation is a proxy for consistent file parsing between the platform and the SDK\n",
    "df_metrics['percent_difference'] = (abs(df_features['RIG'] - df_metrics['train_rig'])/df_metrics['RIG']*100)\n",
    "df_metrics.sort_values(by = 'percent_difference', ascending=False).head(n=10)"
   ]
  },
  {
   "cell_type": "code",
   "execution_count": 34,
   "metadata": {},
   "outputs": [
    {
     "data": {
      "text/plain": [
       "True    297\n",
       "Name: percent_difference, dtype: int64"
      ]
     },
     "execution_count": 34,
     "metadata": {},
     "output_type": "execute_result"
    }
   ],
   "source": [
    "mask = df_metrics['percent_difference'] < 1\n",
    "df_metrics = df_metrics[mask].reset_index(drop=True)\n",
    "\n",
    "mask = df_metrics['percent_difference'] < 1\n",
    "mask.value_counts()"
   ]
  },
  {
   "cell_type": "code",
   "execution_count": 35,
   "metadata": {},
   "outputs": [
    {
     "name": "stdout",
     "output_type": "stream",
     "text": [
      "Test bias \t\t= 0.0001832546127616243\n",
      "Population bias \t= 0.0007634183803723599\n"
     ]
    },
    {
     "data": {
      "image/png": "[encoded data removed]",
      "text/plain": [
       "<Figure size 864x360 with 2 Axes>"
      ]
     },
     "metadata": {
      "needs_background": "light"
     },
     "output_type": "display_data"
    }
   ],
   "source": [
    "# Calculate the biases\n",
    "df_metrics['test_bias'] = df_metrics['train_rig'] - df_metrics['test_rig']\n",
    "df_metrics['population_bias'] = df_metrics['train_rig'] - df_metrics['population_rig']\n",
    "\n",
    "plot_bias(df_metrics)"
   ]
  },
  {
   "cell_type": "code",
   "execution_count": 36,
   "metadata": {},
   "outputs": [
    {
     "data": {
      "text/plain": [
       "0.7506080147249125"
      ]
     },
     "execution_count": 36,
     "metadata": {},
     "output_type": "execute_result"
    }
   ],
   "source": [
    "1-0.0007634183803723599/0.003061118341594997"
   ]
  },
  {
   "cell_type": "code",
   "execution_count": 37,
   "metadata": {},
   "outputs": [],
   "source": [
    "log = '''01:29:36 - Learning to predict (regression) price (revision #8). Evaluating using RMSE\n",
    "01:29:36 - context data-frames:\n",
    "01:29:37 - processing context dataframe -nugl0g9k9brra4odp6zpf76l0f8fvk-census.csv.gz contextName:Census\n",
    "01:29:37 - context dataframe -nugl0g9k9brra4odp6zpf76l0f8fvk-census.csv.gz matched generator 'Lookup'\n",
    "01:30:00 - Best feature (RIG: 0.0027) of 1 from waterfront is: waterfront == 1\n",
    "01:30:00 - Best feature (RIG: 0.1002) of 1 from grade is: cbrt(grade) >= 2.04\n",
    "01:30:00 - Best feature (RIG: 0.0261) of 5 from view is: view >= 1\n",
    "01:30:00 - Best feature (RIG: 0.0049) of 1 from date is: dayOfMonth(date) < 8\n",
    "01:30:00 - Best feature (RIG: 0.004) of 6 from condition is: condition == 4\n",
    "01:30:00 - Best feature (RIG: 0.0117) of 1 from sqft_lot is: log10(sqft_lot) < 3.712\n",
    "01:30:00 - Best feature (RIG: 0.0117) of 2 from sqft_lot is: log(sqft_lot) < 8.548\n",
    "01:30:00 - Best feature (RIG: 0.0266) of 5 from floors is: floors < 1.25\n",
    "01:30:00 - Best feature (RIG: 0.0701) of 1 from sqft_above is: sqft_above >= 2055\n",
    "01:30:00 - Best feature (RIG: 0.1002) of 11 from grade is: arithmeticNot(grade) < -7.5\n",
    "01:30:00 - Best feature (RIG: 0.0989) of 1 from sqft_living is: log1p(sqft_living) >= 7.742\n",
    "01:30:00 - Best feature (RIG: 0.0989) of 2 from sqft_living is: sqft_living >= 2303\n",
    "01:30:00 - Best feature (RIG: 0.0701) of 2 from sqft_above is: toDouble(sqft_above) >= 2055.0\n",
    "01:30:00 - Best feature (RIG: 0.0989) of 1 from sqft_living is: toDouble(sqft_living) >= 2303.0\n",
    "01:30:00 - Best feature (RIG: 0.0509) of 9 from bathrooms is: exp(bathrooms) >= 10.835\n",
    "01:30:00 - Best feature (RIG: 0.0701) of 1 from sqft_above is: cubed(sqft_above) >= 8.6784705E9\n",
    "01:30:00 - Best feature (RIG: 0.0262) of 10 from bedrooms is: bedrooms >= 4\n",
    "01:30:00 - Best feature (RIG: 0.0044) of 13 from date is: getMonth(date) inRange (7 to 8)\n",
    "01:30:00 - Best feature (RIG: 0.0262) of 9 from bedrooms is: inverse(bedrooms) < 0.292\n",
    "01:30:00 - Best feature (RIG: 0.0213) of 1 from sqft_basement is: sqft_basement >= 785\n",
    "01:30:00 - Best feature (RIG: 0.0117) of 1 from sqft_lot is: cbrt(sqft_lot) < 17.277\n",
    "01:30:00 - Best feature (RIG: 0.1002) of 12 from grade is: grade >= 9\n",
    "01:30:00 - Best feature (RIG: 0.0262) of 9 from bedrooms is: relu(bedrooms) >= 3.5\n",
    "01:30:00 - Best feature (RIG: 0.0509) of 27 from bathrooms is: roundToInt(bathrooms) >= 3\n",
    "01:30:00 - Best feature (RIG: 0.0701) of 1 from sqft_above is: squared(sqft_above) >= 4223050.0\n",
    "01:30:00 - Best feature (RIG: 0.0213) of 2 from sqft_basement is: squared(sqft_basement) >= 616250.0\n",
    "01:30:00 - Best feature (RIG: 0.003) of 1 from yr_renovated is: sigmoid(yr_renovated) != 0.5\n",
    "01:30:00 - Best feature (RIG: 0.0989) of 1 from sqft_living is: squared(sqft_living) >= 5303813.0\n",
    "01:30:00 - Best feature (RIG: 0.0262) of 9 from bedrooms is: toDouble(bedrooms) >= 3.5\n",
    "01:30:00 - Best feature (RIG: 0.0213) of 3 from sqft_basement is: |sqft_basement| >= 785\n",
    "01:30:00 - Best feature (RIG: 0.0509) of 32 from bathrooms is: cubed(bathrooms) >= 13.508\n",
    "01:30:00 - Best feature (RIG: 0.0213) of 2 from sqft_basement is: reluHalf(sqft_basement) >= 785.0\n",
    "01:30:00 - Best feature (RIG: 0.0137) of 2 from yr_built is: |yr_built| notInRange (1,917 to 1,998)\n",
    "01:30:00 - Best feature (RIG: 0.0117) of 1 from sqft_lot is: sqft_lot < 5157\n",
    "01:30:00 - Best feature (RIG: 0.0137) of 2 from yr_built is: sqrt(yr_built) notInRange (43.78 to 44.7)\n",
    "01:30:00 - Best feature (RIG: 0.0062) of 1 from yr_renovated is: cbrt(yr_renovated) >= 12.573\n",
    "01:30:00 - Best feature (RIG: 0.0137) of 2 from yr_built is: yr_built notInRange (1,917 to 1,998)\n",
    "01:30:00 - Best feature (RIG: 0.0137) of 3 from yr_built is: toDouble(yr_built) notInRange (1,916.5 to 1,998.5)\n",
    "01:30:00 - Best feature (RIG: 0.0062) of 2 from yr_renovated is: yr_renovated >= 1988\n",
    "01:30:00 - Best feature (RIG: 0.0062) of 2 from yr_renovated is: |yr_renovated| >= 1988\n",
    "01:30:00 - Best feature (RIG: 0.0059) of 70 from date is: dateToDouble(date) inRange (2014.05.07 12:00, 2014.05.15 12:00)\n",
    "01:30:00 - Best feature (RIG: 0.0509) of 27 from bathrooms is: squared(bathrooms) >= 5.656\n",
    "01:30:00 - Best feature (RIG: 0.1002) of 11 from grade is: squared(grade) >= 72.5\n",
    "01:30:00 - Best feature (RIG: 0.0202) of 2 from zipcode is: HU-Occupied of zipcode notInRange (8,269.5 to 19,776)\n",
    "01:30:00 - Best feature (RIG: 0.0436) of 2 from zipcode is: College-Pct of zipcode inRange (17 to 28)\n",
    "01:30:00 - Best feature (RIG: 0.0953) of 3 from zipcode is: Black of zipcode >= 1304\n",
    "01:30:00 - Best feature (RIG: 0.0336) of 4 from zipcode is: Females-30-34 of zipcode notInRange (985 to 1,934)\n",
    "01:30:00 - Best feature (RIG: 0.0269) of 2 from zipcode is: Males-10-14 of zipcode >= 927\n",
    "01:30:00 - Best feature (RIG: 0.0749) of 4 from zipcode is: HH-Earnings-Amt of zipcode >= 95739\n",
    "01:30:00 - Best feature (RIG: 0.0347) of 1 from zipcode is: HU-LP-Gas of zipcode >= 326\n",
    "01:30:00 - Best feature (RIG: 0.037) of 3 from zipcode is: Males-25-29 of zipcode inRange (1,079 to 1,432)\n",
    "01:30:00 - Best feature (RIG: 0.0138) of 70 from zipcode is: latLong of zipcode == LatLong(47.62, -122.2)\n",
    "01:30:00 - Best feature (RIG: 0.0673) of 2 from zipcode is: Other-Race of zipcode < 530\n",
    "01:30:00 - Best feature (RIG: 0.0304) of 2 from zipcode is: Males-75-79 of zipcode inRange (215 to 343)\n",
    "01:30:00 - Best feature (RIG: 0.013) of 13 from zipcode is: HU-Coal of zipcode inRange (3 to 13.5)\n",
    "01:30:00 - Best feature (RIG: 0.0585) of 4 from zipcode is: HH-Cash-Assist of zipcode < 257\n",
    "01:30:00 - Best feature (RIG: 0.0098) of 1 from zipcode is: HU-Other of zipcode < 3\n",
    "01:30:00 - Best feature (RIG: 0.0357) of 4 from zipcode is: Males-5-9 of zipcode inRange (1,354 to 1,836)\n",
    "01:30:00 - Best feature (RIG: 0.0373) of 2 from zipcode is: Females-25-29 of zipcode notInRange (788 to 1,880)\n",
    "01:30:00 - Best feature (RIG: 0.117) of 3 from zipcode is: Per-Cap-Income of zipcode >= 42179\n",
    "01:30:00 - Best feature (RIG: 0.0245) of 2 from zipcode is: Females-60-64 of zipcode inRange (1,184.5 to 1,365.5)\n",
    "01:30:00 - Best feature (RIG: 0.0265) of 4 from zipcode is: Males-35-39 of zipcode inRange (1,013 to 1,526.5)\n",
    "01:30:00 - Best feature (RIG: 0.0775) of 3 from zipcode is: HH-Retire-Amt of zipcode >= 25295\n",
    "01:30:00 - Best feature (RIG: 0.0269) of 4 from zipcode is: Males-80-84 of zipcode notInRange (114.5 to 271)\n",
    "01:30:00 - Best feature (RIG: 0.0044) of 282 from date is: monthOfYear(date) inRange (8 to 9)\n",
    "01:30:00 - Best feature (RIG: 0.0213) of 4 from zipcode is: HH-Earnings of zipcode inRange (9,441.5 to 10,166.5)\n",
    "01:30:00 - Best feature (RIG: 0.1422) of 1 from zipcode is: Degree-Pct of zipcode >= 49.8\n",
    "01:30:00 - Best feature (RIG: 0.1057) of 27 from zipcode is: Hawaiian of zipcode >= 195\n",
    "01:30:00 - Best feature (RIG: 0.0383) of 4 from zipcode is: Males-30-34 of zipcode notInRange (941.5 to 1,563.5)\n",
    "01:30:00 - Best feature (RIG: 0.0377) of 4 from zipcode is: Males-0-4 of zipcode inRange (1,296 to 1,463.5)\n",
    "01:30:00 - Best feature (RIG: 0.0187) of 1 from zipcode is: Land-Area of zipcode < 5\n",
    "01:30:00 - Best feature (RIG: 0.062) of 3 from zipcode is: HH-SSI of zipcode < 289\n",
    "01:30:00 - Best feature (RIG: 0.0239) of 4 from zipcode is: Asian of zipcode inRange (3,705.5 to 4,279)\n",
    "01:30:00 - Best feature (RIG: 0.0628) of 4 from zipcode is: Hispanic of zipcode >= 3070\n",
    "01:30:00 - Best feature (RIG: 0.0255) of 6 from zipcode is: HH-Retire of zipcode >= 1767\n",
    "01:30:00 - Best feature (RIG: 0.076) of 1 from sqft_living15 is: cbrt(sqft_living15) >= 12.976\n",
    "01:30:00 - Best feature (RIG: 0.1192) of 2 from zipcode is: Family-Avg-Income of zipcode >= 114776\n",
    "01:30:00 - Best feature (RIG: 0.0533) of 4 from zipcode is: Poverty-Pct of zipcode >= 8.25\n",
    "01:30:00 - Best feature (RIG: 0.0239) of 2 from zipcode is: Males-45-49 of zipcode inRange (662 to 749.5)\n",
    "01:30:00 - Best feature (RIG: 0.076) of 1 from sqft_living15 is: relu(sqft_living15) >= 2185.0\n",
    "01:30:00 - Best feature (RIG: 0.1028) of 2 from zipcode is: Family-Med-Income of zipcode >= 103132\n",
    "01:30:00 - Best feature (RIG: 0.0159) of 13 from zipcode is: HU-Solar of zipcode inRange (17.5 to 23)\n",
    "01:30:00 - Best feature (RIG: 0.0436) of 3 from zipcode is: HH-Med-Income of zipcode >= 82058\n",
    "01:30:00 - Best feature (RIG: 0.0275) of 2 from zipcode is: Females-80-84 of zipcode inRange (249.5 to 275.5)\n",
    "01:30:00 - Best feature (RIG: 0.0457) of 2 from zipcode is: HU-Vacant-Rent of zipcode inRange (215 to 498)\n",
    "01:30:00 - Best feature (RIG: 0.0269) of 3 from zipcode is: HU-Electric of zipcode notInRange (3,175 to 7,677.5)\n",
    "01:30:00 - Best feature (RIG: 0.015) of 1 from sqft_lot15 is: log10(sqft_lot15) >= 4.062\n",
    "01:30:00 - Best feature (RIG: 0.0388) of 1 from zipcode is: Females-15-19 of zipcode >= 934\n",
    "01:30:00 - Best feature (RIG: 0.015) of 2 from sqft_lot15 is: sqft_lot15 >= 11546\n",
    "01:30:00 - Best feature (RIG: 0.048) of 3 from zipcode is: HH-SS-Amt of zipcode >= 19052\n",
    "01:30:00 - Best feature (RIG: 0.0837) of 7 from zipcode is: HH-Food-Stamps of zipcode >= 908\n",
    "01:30:00 - Best feature (RIG: 0.076) of 2 from sqft_living15 is: sqft_living15 >= 2185\n",
    "01:30:00 - Best feature (RIG: 0.076) of 1 from sqft_living15 is: squared(sqft_living15) >= 4774250.0\n",
    "01:30:00 - Best feature (RIG: 0.015) of 1 from sqft_lot15 is: log1p(sqft_lot15) >= 9.354\n",
    "01:30:00 - Best feature (RIG: 0.0217) of 5 from zipcode is: HU-1960-1969 of zipcode inRange (182.5 to 474.5)\n",
    "01:30:00 - Best feature (RIG: 0.0543) of 2 from zipcode is: Females-90-Up of zipcode inRange (36.5 to 87)\n",
    "01:30:00 - Best feature (RIG: 0.0504) of 4 from zipcode is: HU-Mobile of zipcode >= 183\n",
    "01:30:00 - Best feature (RIG: 0.0486) of 4 from zipcode is: HH-Size of zipcode < 2.435\n",
    "01:30:00 - Best feature (RIG: 0.0271) of 5 from zipcode is: Not-Hispanic of zipcode inRange (25,390.5 to 41,431.5)\n",
    "01:30:00 - Best feature (RIG: 0.1378) of 1 from zipcode is: Avg-Home-Value of zipcode >= 487151\n",
    "01:30:00 - Best feature (RIG: 0.015) of 1 from sqft_lot15 is: toDouble(sqft_lot15) >= 11545.5\n",
    "01:30:00 - Best feature (RIG: 0.0835) of 4 from zipcode is: Family-Size of zipcode >= 3.105\n",
    "01:30:00 - Best feature (RIG: 0.0518) of 8 from zipcode is: HU-Wood of zipcode < 50\n",
    "01:30:00 - Best feature (RIG: 0.0799) of 6 from zipcode is: Indian of zipcode >= 220.5\n",
    "01:30:00 - Best feature (RIG: 0.1334) of 3 from zipcode is: Med-Home-Value of zipcode >= 418100\n",
    "01:30:00 - Best feature (RIG: 0.0492) of 74 from zipcode is: HU-Before-1940 of zipcode notInRange (198.5 to 3,878)\n",
    "01:30:00 - Best feature (RIG: 0.0396) of 8 from zipcode is: Median-Age-F of zipcode notInRange (34.55 to 38.95)\n",
    "01:30:01 - Best feature (RIG: 0.0138) of 85 from zipcode is: prefixes(zipcode) contains \"98004\"\n",
    "01:30:01 - Best feature (RIG: 0.002) of 1000 from zipcode latLong is: (latLong, zipcode) == (LatLong(47.72, -122.29), \"98125\")\n",
    "01:30:01 - Best feature (RIG: 0.002) of 1000 from zipcode latLong is: (zipcode, circle3km around latLong) == (\"98125\", GeoCircle(LatLong(47.72, -122.29), 3, com.sparkbeyond.runtime.feature.types.SBLengthUnit.`kilometer`, 100))\n",
    "01:30:01 - Best feature (RIG: 0.002) of 1000 from zipcode latLong is: (circle100m around latLong, zipcode) == (GeoCircle(LatLong(47.72, -122.29), 0.1, com.sparkbeyond.runtime.feature.types.SBLengthUnit.`kilometer`, 100), \"98125\")\n",
    "01:30:01 - Best feature (RIG: 0.002) of 1000 from zipcode latLong is: (zipcode, latLong) == (\"98125\", LatLong(47.72, -122.29))\n",
    "01:30:02 - Best feature (RIG: 0.1173) of 1000 from latLong is: latitude(latLong) < 47.536\n",
    "01:30:02 - stage end, feature generation took 2.0 seconds to this point\n",
    "01:30:04 - feature generation on 21 column subsets took 2.0 seconds\n",
    "01:30:04 - Best feature (RIG: 0.0975) of 1 from grade is: cbrt(grade) >= 2.04\n",
    "01:30:04 - Best feature (RIG: 0.004) of 1 from waterfront is: waterfront == 1\n",
    "01:30:04 - Best feature (RIG: 7.0E-4) of 1 from date is: dayOfMonth(date) < 14\n",
    "01:30:04 - Best feature (RIG: 0.0761) of 1 from sqft_living15 is: cbrt(sqft_living15) >= 12.976\n",
    "01:30:04 - Best feature (RIG: 9.0E-4) of 2 from date is: getMonth(date) == 11\n",
    "01:30:04 - Best feature (RIG: 0.0032) of 6 from condition is: condition != 3\n",
    "01:30:04 - Best feature (RIG: 0.0284) of 5 from floors is: floors == 1.0\n",
    "01:30:04 - Best feature (RIG: 0.0761) of 1 from sqft_living15 is: relu(sqft_living15) >= 2185.0\n",
    "01:30:04 - Best feature (RIG: 0.0039) of 1 from yr_renovated is: sigmoid(yr_renovated) >= 0.75\n",
    "01:30:04 - Best feature (RIG: 0.0975) of 11 from grade is: cubed(grade) >= 620.5\n",
    "01:30:04 - Best feature (RIG: 0.0445) of 8 from bathrooms is: exp(bathrooms) < 8.438\n",
    "01:30:04 - Best feature (RIG: 0.0063) of 1 from yr_renovated is: cbrt(yr_renovated) >= 12.571\n",
    "01:30:04 - Best feature (RIG: 0.0445) of 8 from bathrooms is: sqrt(bathrooms) < 1.457\n",
    "01:30:04 - Best feature (RIG: 0.0271) of 5 from view is: view >= 1\n",
    "01:30:04 - Best feature (RIG: 0.0084) of 1 from sqft_lot is: log10(sqft_lot) >= 4.083\n",
    "01:30:04 - Best feature (RIG: 0.0084) of 2 from sqft_lot is: log(sqft_lot) >= 9.401\n",
    "01:30:04 - Best feature (RIG: 0.0063) of 2 from yr_renovated is: |yr_renovated| >= 1987\n",
    "01:30:04 - Best feature (RIG: 0.0063) of 2 from yr_renovated is: yr_renovated >= 1987\n",
    "01:30:04 - Best feature (RIG: 0.0975) of 12 from grade is: grade >= 9\n",
    "01:30:04 - Best feature (RIG: 0.0445) of 11 from bathrooms is: cubed(bathrooms) < 9.695\n",
    "01:30:04 - Best feature (RIG: 0.0761) of 1 from sqft_living15 is: squared(sqft_living15) >= 4774250.0\n",
    "01:30:04 - Best feature (RIG: 0.0761) of 2 from sqft_living15 is: sqft_living15 >= 2185\n",
    "01:30:04 - Best feature (RIG: 0.0102) of 2 from sqft_lot15 is: sqft_lot15 >= 10503\n",
    "01:30:04 - Best feature (RIG: 0.098) of 1 from sqft_living is: toDouble(sqft_living) >= 2303.0\n",
    "01:30:04 - Best feature (RIG: 0.0102) of 1 from sqft_lot15 is: log10(sqft_lot15) >= 4.021\n",
    "01:30:04 - Best feature (RIG: 0.0015) of 17 from date is: dateToDouble(date) inRange (2014.05.26 12:00, 2014.06.19 12:00)\n",
    "01:30:04 - Best feature (RIG: 0.0135) of 2 from yr_built is: |yr_built| inRange (1,942 to 1,986)\n",
    "01:30:04 - Best feature (RIG: 0.098) of 2 from sqft_living is: sqft_living >= 2303\n",
    "01:30:04 - Best feature (RIG: 0.0135) of 2 from yr_built is: sqrt(yr_built) inRange (44.06 to 44.57)\n",
    "01:30:04 - Best feature (RIG: 0.0445) of 8 from bathrooms is: bathrooms < 2.125\n",
    "01:30:04 - Best feature (RIG: 0.0102) of 1 from sqft_lot15 is: log1p(sqft_lot15) >= 9.26\n",
    "01:30:04 - Best feature (RIG: 0.098) of 1 from sqft_living is: log1p(sqft_living) >= 7.742\n",
    "01:30:04 - Best feature (RIG: 0.0328) of 9 from bedrooms is: bedrooms >= 4\n",
    "01:30:04 - Best feature (RIG: 0.0084) of 1 from sqft_lot is: log1p(sqft_lot) >= 9.401\n",
    "01:30:04 - Best feature (RIG: 0.0672) of 1 from sqft_above is: sqft_above >= 1825\n",
    "01:30:04 - Best feature (RIG: 0.0135) of 2 from yr_built is: yr_built inRange (1,942 to 1,986)\n",
    "01:30:04 - Best feature (RIG: 0.0328) of 8 from bedrooms is: inverse(bedrooms) < 0.292\n",
    "01:30:04 - Best feature (RIG: 0.0672) of 1 from sqft_above is: cubed(sqft_above) >= 6.0785275E9\n",
    "01:30:04 - Best feature (RIG: 0.0141) of 3 from yr_built is: inverse(yr_built) notInRange (5.01378823186351E-4 to 5.182690164035703E-4)\n",
    "01:30:04 - Best feature (RIG: 0.0975) of 11 from grade is: squared(grade) >= 72.5\n",
    "01:30:04 - Best feature (RIG: 0.0672) of 2 from sqft_above is: toDouble(sqft_above) >= 1825.0\n",
    "01:30:04 - Best feature (RIG: 0.0212) of 1 from sqft_basement is: sqft_basement >= 725\n",
    "01:30:04 - Best feature (RIG: 0.0212) of 2 from sqft_basement is: squared(sqft_basement) >= 525650.0\n",
    "01:30:04 - Best feature (RIG: 0.0672) of 1 from sqft_above is: squared(sqft_above) >= 3330650.0\n",
    "01:30:04 - Best feature (RIG: 0.0102) of 1 from sqft_lot15 is: toDouble(sqft_lot15) >= 10503.0\n",
    "01:30:04 - Best feature (RIG: 0.0014) of 59 from date is: date == Wed Oct 15 00:00:00 UTC 2014\n",
    "01:30:04 - Best feature (RIG: 0.0328) of 8 from bedrooms is: log1p(bedrooms) >= 1.498\n",
    "01:30:04 - Best feature (RIG: 0.098) of 1 from sqft_living is: squared(sqft_living) >= 5303813.0\n",
    "01:30:04 - Best feature (RIG: 0.0212) of 3 from sqft_basement is: |sqft_basement| >= 725\n",
    "01:30:04 - Best feature (RIG: 0.0212) of 2 from sqft_basement is: arithmeticNot(sqft_basement) < -724.0\n",
    "01:30:04 - Best feature (RIG: 0.0328) of 8 from bedrooms is: sqrt(bedrooms) >= 1.866\n",
    "01:30:04 - Best feature (RIG: 0.0084) of 1 from sqft_lot is: sqft_lot >= 12100\n",
    "01:30:04 - Best feature (RIG: 0.0973) of 3 from zipcode is: Black of zipcode >= 1304\n",
    "01:30:04 - Best feature (RIG: 0.0254) of 2 from zipcode is: Males-10-14 of zipcode >= 927\n",
    "01:30:04 - Best feature (RIG: 0.0228) of 2 from zipcode is: HU-Occupied of zipcode notInRange (8,269.5 to 19,776)\n",
    "01:30:04 - Best feature (RIG: 0.0507) of 2 from zipcode is: College-Pct of zipcode inRange (17 to 28)\n",
    "01:30:04 - Best feature (RIG: 0.072) of 1 from zipcode is: Other-Race of zipcode < 530\n",
    "01:30:04 - Best feature (RIG: 0.0273) of 1 from zipcode is: HU-LP-Gas of zipcode >= 326\n",
    "01:30:04 - Best feature (RIG: 0.0131) of 13 from zipcode is: HU-Coal of zipcode inRange (3 to 13.5)\n",
    "01:30:04 - Best feature (RIG: 0.0617) of 4 from zipcode is: HH-Cash-Assist of zipcode < 257\n",
    "01:30:05 - Best feature (RIG: 0.0376) of 3 from zipcode is: Males-25-29 of zipcode inRange (860.5 to 1,905)\n",
    "01:30:05 - Best feature (RIG: 0.0766) of 3 from zipcode is: HH-Earnings-Amt of zipcode >= 95739\n",
    "01:30:05 - Best feature (RIG: 0.034) of 4 from zipcode is: Females-30-34 of zipcode notInRange (985 to 1,934)\n",
    "01:30:05 - Best feature (RIG: 0.0242) of 2 from zipcode is: Females-60-64 of zipcode inRange (1,184.5 to 1,365.5)\n",
    "01:30:05 - Best feature (RIG: 0.0381) of 2 from zipcode is: Males-75-79 of zipcode inRange (215 to 343)\n",
    "01:30:05 - Best feature (RIG: 0.0106) of 1 from zipcode is: HU-Other of zipcode < 3\n",
    "01:30:05 - Best feature (RIG: 0.0346) of 3 from zipcode is: Males-5-9 of zipcode inRange (1,354 to 1,836)\n",
    "01:30:05 - Best feature (RIG: 0.0778) of 3 from zipcode is: HH-Avg-Income of zipcode >= 106346\n",
    "01:30:05 - Best feature (RIG: 0.012) of 67 from zipcode is: latLong of zipcode == LatLong(47.62, -122.2)\n",
    "01:30:05 - Best feature (RIG: 0.0299) of 4 from zipcode is: Tot-Females of zipcode inRange (15,314 to 23,093)\n",
    "01:30:05 - Best feature (RIG: 0.0381) of 2 from zipcode is: Females-25-29 of zipcode notInRange (788 to 2,058.5)\n",
    "01:30:05 - Best feature (RIG: 0.0254) of 4 from zipcode is: Males-80-84 of zipcode notInRange (114.5 to 271)\n",
    "01:30:05 - Best feature (RIG: 0.1193) of 4 from zipcode is: Per-Cap-Income of zipcode >= 42179\n",
    "01:30:05 - Best feature (RIG: 0.0348) of 3 from zipcode is: Males-0-4 of zipcode < 792\n",
    "01:30:05 - Best feature (RIG: 0.1414) of 1 from zipcode is: Degree-Pct of zipcode >= 50.6\n",
    "01:30:05 - Best feature (RIG: 0.0657) of 3 from zipcode is: HH-SSI of zipcode < 289\n",
    "01:30:05 - Best feature (RIG: 0.0269) of 4 from zipcode is: Asian of zipcode inRange (3,705.5 to 4,279)\n",
    "01:30:05 - Best feature (RIG: 0.1106) of 24 from zipcode is: Hawaiian of zipcode >= 166\n",
    "01:30:05 - Best feature (RIG: 0.0208) of 4 from zipcode is: Water-Area of zipcode < 0.35\n",
    "01:30:05 - Best feature (RIG: 0.0653) of 4 from zipcode is: Hispanic of zipcode >= 3070\n",
    "01:30:05 - Best feature (RIG: 0.0217) of 1 from zipcode is: Land-Area of zipcode < 5\n",
    "01:30:05 - Best feature (RIG: 0.0366) of 4 from zipcode is: Males-30-34 of zipcode notInRange (874.5 to 1,563.5)\n",
    "01:30:05 - Best feature (RIG: 0.0315) of 6 from zipcode is: HH-Retire of zipcode >= 1767\n",
    "01:30:05 - Best feature (RIG: 0.0542) of 4 from zipcode is: Poverty-Pct of zipcode >= 8.25\n",
    "01:30:05 - Best feature (RIG: 0.1245) of 2 from zipcode is: Family-Avg-Income of zipcode >= 114776\n",
    "01:30:05 - Best feature (RIG: 0.1028) of 3 from zipcode is: Family-Med-Income of zipcode >= 103132\n",
    "01:30:05 - Best feature (RIG: 0.0179) of 1 from zipcode is: Males-45-49 of zipcode < 1139\n",
    "01:30:05 - Best feature (RIG: 0.0398) of 1 from zipcode is: Females-15-19 of zipcode >= 934\n",
    "01:30:05 - Best feature (RIG: 0.0244) of 3 from zipcode is: HU-Electric of zipcode notInRange (3,175 to 11,967)\n",
    "01:30:05 - Best feature (RIG: 0.0158) of 1 from zipcode is: Females-90-Up of zipcode < 87\n",
    "01:30:05 - Best feature (RIG: 0.0469) of 3 from zipcode is: HH-Med-Income of zipcode >= 81279\n",
    "01:30:05 - Best feature (RIG: 0.0253) of 2 from zipcode is: Females-80-84 of zipcode inRange (249.5 to 275.5)\n",
    "01:30:05 - Best feature (RIG: 0.0192) of 3 from zipcode is: Males-70-74 of zipcode < 289\n",
    "01:30:05 - Best feature (RIG: 0.1398) of 1 from zipcode is: Avg-Home-Value of zipcode >= 487151\n",
    "01:30:05 - Best feature (RIG: 0.0197) of 13 from zipcode is: HU-Solar of zipcode inRange (11.5 to 23)\n",
    "01:30:05 - Best feature (RIG: 0.0852) of 7 from zipcode is: HH-Food-Stamps of zipcode >= 908\n",
    "01:30:05 - Best feature (RIG: 0.0801) of 7 from zipcode is: Indian of zipcode >= 220.5\n",
    "01:30:05 - Best feature (RIG: 0.0459) of 2 from zipcode is: HU-Vacant-Rent of zipcode inRange (215 to 498)\n",
    "01:30:05 - Best feature (RIG: 0.0728) of 4 from zipcode is: Family-Size of zipcode >= 3.105\n",
    "01:30:05 - Best feature (RIG: 0.0471) of 4 from zipcode is: HH-Size of zipcode < 2.435\n",
    "01:30:05 - Best feature (RIG: 0.0512) of 8 from zipcode is: HU-Wood of zipcode < 50\n",
    "01:30:05 - Best feature (RIG: 0.0562) of 4 from zipcode is: HU-Mobile of zipcode < 49\n",
    "01:30:05 - Best feature (RIG: 0.0313) of 5 from zipcode is: Not-Hispanic of zipcode inRange (25,390.5 to 41,431.5)\n",
    "01:30:05 - Best feature (RIG: 0.1355) of 3 from zipcode is: Med-Home-Value of zipcode >= 418100\n",
    "01:30:05 - Best feature (RIG: 0.0455) of 4 from zipcode is: HH-SS-Amt of zipcode notInRange (13,569.5 to 19,052)\n",
    "01:30:05 - Best feature (RIG: 0.0549) of 71 from zipcode is: HU-Before-1940 of zipcode notInRange (101 to 3,878)\n",
    "01:30:05 - Best feature (RIG: 0.0342) of 7 from zipcode is: Median-Age-F of zipcode notInRange (34.55 to 39.3)\n",
    "01:30:05 - Best feature (RIG: 0.0123) of 82 from zipcode is: prefixes(zipcode) contains \"9807\"\n",
    "01:30:12 - Best feature (RIG: 0.1145) of 417 from latLong is: latitude(latLong) < 47.533\n",
    "01:30:12 - stage end, feature generation took 8.3 seconds to this point\n",
    "01:30:14 - feature generation on 19 column subsets took 8.3 seconds\n",
    "01:30:21 - Enriching training set with discovered features...\n",
    "01:30:24 - Enriched training set contains 302 features\n",
    "01:30:32 - Building models...\n",
    "01:31:07 - Model building completed. Test-set RMSE score of best algorithm: 154114.048'''"
   ]
  },
  {
   "cell_type": "code",
   "execution_count": 38,
   "metadata": {},
   "outputs": [
    {
     "data": {
      "text/plain": [
       "7137"
      ]
     },
     "execution_count": 38,
     "metadata": {},
     "output_type": "execute_result"
    }
   ],
   "source": [
    "operational_log_number_of_features(log)"
   ]
  },
  {
   "cell_type": "code",
   "execution_count": 39,
   "metadata": {},
   "outputs": [
    {
     "name": "stdout",
     "output_type": "stream",
     "text": [
      "Max null RIG \t\t= 0.0018530564772717198\n",
      "Median null RIG \t= 0.00024242144228377033\n",
      "1 in 7137 null RIG \t= 0.0016054225107349103\n",
      "Gain threshold \t\t= 0.0005\n",
      "CPU times: user 1min 55s, sys: 1.27 s, total: 1min 56s\n",
      "Wall time: 2min 2s\n"
     ]
    }
   ],
   "source": [
    "%%time\n",
    "permutation_test.calculate_null_rigs(permutations = 7137)"
   ]
  }
 ],
 "metadata": {
  "kernelspec": {
   "display_name": "Python 3",
   "language": "python",
   "name": "python3"
  },
  "language_info": {
   "codemirror_mode": {
    "name": "ipython",
    "version": 3
   },
   "file_extension": ".py",
   "mimetype": "text/x-python",
   "name": "python",
   "nbconvert_exporter": "python",
   "pygments_lexer": "ipython3",
   "version": "3.6.13"
  }
 },
 "nbformat": 4,
 "nbformat_minor": 2
}
