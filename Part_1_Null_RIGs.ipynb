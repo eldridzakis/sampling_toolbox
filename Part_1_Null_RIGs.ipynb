{
 "cells": [
  {
   "cell_type": "markdown",
   "metadata": {},
   "source": [
    "# Part 1 Null RIGs using synthetic data (the features are given)\n",
    "## Specifying the user tolerance for feature significance using relative information gain (RIG)\n"
   ]
  },
  {
   "cell_type": "code",
   "execution_count": 1,
   "metadata": {},
   "outputs": [
    {
     "data": {
      "text/html": [
       "<style>.container { width:90% !important; }</style>"
      ],
      "text/plain": [
       "<IPython.core.display.HTML object>"
      ]
     },
     "metadata": {},
     "output_type": "display_data"
    }
   ],
   "source": [
    "import sparkbeyond._api2.classes as sb\n",
    "import pandas as pd\n",
    "import numpy as np\n",
    "import time\n",
    "\n",
    "# For my API token\n",
    "import os\n",
    "\n",
    "from IPython.core.display import display, HTML\n",
    "display(HTML(\"<style>.container { width:90% !important; }</style>\"))\n",
    "\n",
    "np.random.seed(seed=42)"
   ]
  },
  {
   "cell_type": "code",
   "execution_count": 2,
   "metadata": {},
   "outputs": [],
   "source": [
    "# Import the needed class from the sampling_toolbox\n",
    "from sampling_toolbox import PermutationObject\n",
    "from sparkbeyond_utils import operational_log_number_of_features"
   ]
  },
  {
   "cell_type": "markdown",
   "metadata": {},
   "source": [
    "## Titanic\n",
    "We create synthetic data for titanic based on the number of rows of the training data and the support of the minority class in the target."
   ]
  },
  {
   "cell_type": "code",
   "execution_count": 3,
   "metadata": {},
   "outputs": [
    {
     "name": "stdout",
     "output_type": "stream",
     "text": [
      "CPU times: user 10.8 ms, sys: 1.67 ms, total: 12.5 ms\n",
      "Wall time: 11.3 ms\n"
     ]
    }
   ],
   "source": [
    "%%time\n",
    "titanic = PermutationObject()\n",
    "\n",
    "titanic.set_data_parameters(nrows = 720, class_weights = [0.37])\n",
    "\n",
    "titanic.create_synthetic_data()"
   ]
  },
  {
   "cell_type": "markdown",
   "metadata": {},
   "source": [
    "### Run for 1000 permutations\n",
    "We will run for now and look into why 1000 was chosen later"
   ]
  },
  {
   "cell_type": "code",
   "execution_count": 4,
   "metadata": {},
   "outputs": [
    {
     "name": "stdout",
     "output_type": "stream",
     "text": [
      "Max null RIG \t\t= 0.01392701700478339\n",
      "Median null RIG \t= 0.0004783449261842156\n",
      "1 in 1000 null RIG \t= 0.010355675249646657\n",
      "Gain threshold \t\t= 0.0005\n",
      "CPU times: user 14.4 s, sys: 52.2 ms, total: 14.5 s\n",
      "Wall time: 14.5 s\n"
     ]
    }
   ],
   "source": [
    "%%time\n",
    "titanic.calculate_null_rigs(permutations = 1000)"
   ]
  },
  {
   "cell_type": "markdown",
   "metadata": {},
   "source": [
    "Let's see what a RIG value equal to 0.0005 corresponds to in the null distribution."
   ]
  },
  {
   "cell_type": "code",
   "execution_count": 5,
   "metadata": {},
   "outputs": [
    {
     "name": "stdout",
     "output_type": "stream",
     "text": [
      "439 in 1000 null RIGs greater than 0.0005 threshold\n"
     ]
    }
   ],
   "source": [
    "titanic.null_rigs_comparison()"
   ]
  },
  {
   "cell_type": "markdown",
   "metadata": {},
   "source": [
    "We can pick a higher threshold to see how many of the rigs in the null distribution have a higher value"
   ]
  },
  {
   "cell_type": "code",
   "execution_count": 6,
   "metadata": {},
   "outputs": [
    {
     "name": "stdout",
     "output_type": "stream",
     "text": [
      "6 in 1000 null RIGs greater than 0.0087 threshold\n"
     ]
    }
   ],
   "source": [
    "titanic.gain_threshold = 0.0087\n",
    "titanic.null_rigs_comparison()"
   ]
  },
  {
   "cell_type": "markdown",
   "metadata": {},
   "source": [
    "### Run for a larger number of permutations"
   ]
  },
  {
   "cell_type": "code",
   "execution_count": 7,
   "metadata": {},
   "outputs": [
    {
     "name": "stdout",
     "output_type": "stream",
     "text": [
      "Max null RIG \t\t= 0.014254678194993762\n",
      "Median null RIG \t= 0.0004783449261842156\n",
      "1 in 10000 null RIG \t= 0.01392704977090218\n",
      "Gain threshold \t\t= 0.0087\n",
      "CPU times: user 2min 24s, sys: 508 ms, total: 2min 24s\n",
      "Wall time: 2min 25s\n"
     ]
    }
   ],
   "source": [
    "%%time\n",
    "titanic.calculate_null_rigs(permutations = 10_000)"
   ]
  },
  {
   "cell_type": "code",
   "execution_count": 8,
   "metadata": {},
   "outputs": [
    {
     "name": "stdout",
     "output_type": "stream",
     "text": [
      "41 in 10000 null RIGs greater than 0.0087 threshold\n"
     ]
    }
   ],
   "source": [
    "titanic.null_rigs_comparison()"
   ]
  },
  {
   "cell_type": "markdown",
   "metadata": {},
   "source": [
    "Out of 10,000 rigs from the null distribution, only 41 have a RIG greater than 0.0087."
   ]
  },
  {
   "cell_type": "markdown",
   "metadata": {},
   "source": [
    "## Comparison to Titanic Features"
   ]
  },
  {
   "cell_type": "code",
   "execution_count": 9,
   "metadata": {},
   "outputs": [
    {
     "name": "stdout",
     "output_type": "stream",
     "text": [
      "Connecting to https://demo.sparkbeyond.com/...\n",
      "Connected. Server version 1.36.1\n"
     ]
    }
   ],
   "source": [
    "api_key = os.environ['SB_Demo_API_key']\n",
    "server_url = 'https://demo.sparkbeyond.com/'\n",
    "client = sb.SparkBeyondClient(base_url=server_url, api_key=api_key, verify_ssl_certificate=False)"
   ]
  },
  {
   "cell_type": "markdown",
   "metadata": {},
   "source": [
    "An estimate of the number of features evaluated in DP can be obtained using the log from the operational metrics tab. I ran a pipeline with the titanic data and a shuffled target to estimate the number of features evaulated for this specific dataset."
   ]
  },
  {
   "cell_type": "code",
   "execution_count": 10,
   "metadata": {},
   "outputs": [],
   "source": [
    "log = \"\"\"13:25:19 - Learning to classify survived (revision #35). Evaluating using AUC\n",
    "13:25:26 - Best feature (RIG: 0.0036) of 3 from sibsp is: sibsp == 5\n",
    "13:25:26 - Best feature (RIG: 0.0031) of 2 from parch is: parch == 4\n",
    "13:25:26 - Best feature (RIG: 0.0079) of 3 from fare is: log1p(fare) inRange (2.11 to 2.17)\n",
    "13:25:26 - Best feature (RIG: 0.005) of 2 from fare is: floor(fare) notInRange (6.5 to 254.5)\n",
    "13:25:26 - Best feature (RIG: 0.005) of 2 from fare is: ceil(fare) notInRange (7.5 to 255.5)\n",
    "13:25:26 - Best feature (RIG: 0.0079) of 3 from fare is: inverse(fare) inRange (0.13 to 0.14)\n",
    "13:25:26 - Best feature (RIG: 0.0058) of 15 from cabin is: extractKeys(elementCount(cabin)) == ('8', 'C', '6')\n",
    "13:25:26 - Best feature (RIG: 0.0058) of 18 from cabin is: splitDigitsAndLetters(cabin) contains \"68\"\n",
    "13:25:26 - Best feature (RIG: 0.0084) of 34 from cabin is: prefixes(cabin) contains \"C9\"\n",
    "13:25:26 - Best feature (RIG: 0.0087) of 46 from ticket is: min(numbers(ticket)) inRange (34,239 to 36,716)\n",
    "13:25:26 - Best feature (RIG: 0.0116) of 34 from ticket is: numericPairs(ticket) for (c.a.) >= 33111.5\n",
    "13:25:26 - Best feature (RIG: 0.0116) of 33 from ticket is: numericPairsUSFormat(ticket) for (c.a.) >= 33111.5\n",
    "13:25:27 - Best feature (RIG: 0.0087) of 239 from ticket is: sum(numbers(ticket)) inRange (34,239 to 36,716)\n",
    "13:25:27 - Best feature (RIG: 0.0097) of 194 from name is: alphanumericRatio(name) >= 0.851\n",
    "13:25:27 - Best feature (RIG: 0.0091) of 131 from name is: name contains \"mr. william\"\n",
    "13:25:27 - Best feature (RIG: 0.0101) of 60 from name is: slidingSubsets(name) contains (\"mr\", \"william\")\n",
    "13:25:27 - Best feature (RIG: 0.0073) of 69 from cabin is: The percent of 6 in (cabin) inRange (17.14 to 26.79)\n",
    "13:25:27 - Best feature (RIG: 0.0077) of 77 from name is: stemmedWords(name) contains \"katherin\"\n",
    "13:25:28 - stage end, feature generation took 1.5 seconds to this point\n",
    "13:25:29 - feature generation on 8 column subsets took 1.5 seconds\n",
    "13:25:30 - Enriching training set with discovered features...\n",
    "13:25:31 - Enriched training set contains 269 features\n",
    "13:25:34 - Building models...\n",
    "13:25:38 - Model building completed. Test-set AUC score of best algorithm: 0.47\"\"\"\n"
   ]
  },
  {
   "cell_type": "code",
   "execution_count": 11,
   "metadata": {},
   "outputs": [
    {
     "data": {
      "text/plain": [
       "965"
      ]
     },
     "execution_count": 11,
     "metadata": {},
     "output_type": "execute_result"
    }
   ],
   "source": [
    "operational_log_number_of_features(log)"
   ]
  },
  {
   "cell_type": "markdown",
   "metadata": {},
   "source": [
    "As by definition these are all null features, from the estimation above, we would expect around 4 in 1000 null features to have a RIG greater than 0.0087. "
   ]
  },
  {
   "cell_type": "code",
   "execution_count": 12,
   "metadata": {},
   "outputs": [
    {
     "data": {
      "text/html": [
       "<div>\n",
       "<style scoped>\n",
       "    .dataframe tbody tr th:only-of-type {\n",
       "        vertical-align: middle;\n",
       "    }\n",
       "\n",
       "    .dataframe tbody tr th {\n",
       "        vertical-align: top;\n",
       "    }\n",
       "\n",
       "    .dataframe thead th {\n",
       "        text-align: right;\n",
       "    }\n",
       "</style>\n",
       "<table border=\"1\" class=\"dataframe\">\n",
       "  <thead>\n",
       "    <tr style=\"text-align: right;\">\n",
       "      <th></th>\n",
       "      <th>idx</th>\n",
       "      <th>feature</th>\n",
       "      <th>Input names</th>\n",
       "      <th>Dominant survived</th>\n",
       "      <th>RIG</th>\n",
       "      <th>Score</th>\n",
       "      <th>lin. score</th>\n",
       "      <th>Support 0</th>\n",
       "      <th>Support 1</th>\n",
       "      <th>% support 0</th>\n",
       "      <th>...</th>\n",
       "      <th>Median</th>\n",
       "      <th>75th Percentile</th>\n",
       "      <th>Max</th>\n",
       "      <th>Mean</th>\n",
       "      <th>SD</th>\n",
       "      <th>Estimated Total Values</th>\n",
       "      <th>Summary is Sampled</th>\n",
       "      <th>numericFeatureName</th>\n",
       "      <th>booleanFeatureName</th>\n",
       "      <th>revision_id</th>\n",
       "    </tr>\n",
       "  </thead>\n",
       "  <tbody>\n",
       "    <tr>\n",
       "      <th>0</th>\n",
       "      <td>0</td>\n",
       "      <td>numericPairs(ticket) for (c.a.) &gt;= 33111.5</td>\n",
       "      <td>ticket</td>\n",
       "      <td>1</td>\n",
       "      <td>0.011639</td>\n",
       "      <td>0.011509</td>\n",
       "      <td>0.623454</td>\n",
       "      <td>0.0</td>\n",
       "      <td>6.0</td>\n",
       "      <td>0.0%</td>\n",
       "      <td>...</td>\n",
       "      <td>1.872300e+04</td>\n",
       "      <td>3.192100e+04</td>\n",
       "      <td>3.767100e+04</td>\n",
       "      <td>1.729200e+04</td>\n",
       "      <td>1.464800e+04</td>\n",
       "      <td>NaN</td>\n",
       "      <td>False</td>\n",
       "      <td>numericPairs(ticket) for (c.a.)</td>\n",
       "      <td>numericPairs(ticket) for (c.a.) &gt;= 33111.5</td>\n",
       "      <td>35</td>\n",
       "    </tr>\n",
       "    <tr>\n",
       "      <th>1</th>\n",
       "      <td>1</td>\n",
       "      <td>alphanumericRatio(name) &gt;= 0.851</td>\n",
       "      <td>name</td>\n",
       "      <td>1</td>\n",
       "      <td>0.009688</td>\n",
       "      <td>0.009616</td>\n",
       "      <td>0.538697</td>\n",
       "      <td>0.0</td>\n",
       "      <td>5.0</td>\n",
       "      <td>0.0%</td>\n",
       "      <td>...</td>\n",
       "      <td>9.223372e-11</td>\n",
       "      <td>9.223372e-11</td>\n",
       "      <td>9.223372e-11</td>\n",
       "      <td>9.223372e-11</td>\n",
       "      <td>9.223372e-11</td>\n",
       "      <td>NaN</td>\n",
       "      <td>False</td>\n",
       "      <td>alphanumericRatio(name)</td>\n",
       "      <td>alphanumericRatio(name) &gt;= 0.851</td>\n",
       "      <td>35</td>\n",
       "    </tr>\n",
       "    <tr>\n",
       "      <th>2</th>\n",
       "      <td>2</td>\n",
       "      <td>slidingSubsets(name) contains (\"mr\", \"william\")</td>\n",
       "      <td>name</td>\n",
       "      <td>0</td>\n",
       "      <td>0.010055</td>\n",
       "      <td>0.009613</td>\n",
       "      <td>0.535619</td>\n",
       "      <td>28.0</td>\n",
       "      <td>5.0</td>\n",
       "      <td>6.42%</td>\n",
       "      <td>...</td>\n",
       "      <td>NaN</td>\n",
       "      <td>NaN</td>\n",
       "      <td>NaN</td>\n",
       "      <td>NaN</td>\n",
       "      <td>NaN</td>\n",
       "      <td>7567.0</td>\n",
       "      <td>False</td>\n",
       "      <td>slidingSubsets(name) contains (\"mr\", \"william\")</td>\n",
       "      <td>slidingSubsets(name) contains (\"mr\", \"william\")</td>\n",
       "      <td>35</td>\n",
       "    </tr>\n",
       "    <tr>\n",
       "      <th>18</th>\n",
       "      <td>18</td>\n",
       "      <td>sum(numbers(ticket)) inRange (34,239 to 36,716)</td>\n",
       "      <td>ticket</td>\n",
       "      <td>1</td>\n",
       "      <td>0.008748</td>\n",
       "      <td>0.005807</td>\n",
       "      <td>0.625098</td>\n",
       "      <td>2.0</td>\n",
       "      <td>9.0</td>\n",
       "      <td>0.46%</td>\n",
       "      <td>...</td>\n",
       "      <td>1.123790e+05</td>\n",
       "      <td>3.470820e+05</td>\n",
       "      <td>3.101317e+06</td>\n",
       "      <td>2.951300e+05</td>\n",
       "      <td>6.518260e+05</td>\n",
       "      <td>NaN</td>\n",
       "      <td>False</td>\n",
       "      <td>|sum(numbers(ticket)) - 35,477.5|</td>\n",
       "      <td>sum(numbers(ticket)) inRange (34,239 to 36,716)</td>\n",
       "      <td>35</td>\n",
       "    </tr>\n",
       "  </tbody>\n",
       "</table>\n",
       "<p>4 rows × 31 columns</p>\n",
       "</div>"
      ],
      "text/plain": [
       "    idx                                          feature Input names  \\\n",
       "0     0       numericPairs(ticket) for (c.a.) >= 33111.5      ticket   \n",
       "1     1                 alphanumericRatio(name) >= 0.851        name   \n",
       "2     2  slidingSubsets(name) contains (\"mr\", \"william\")        name   \n",
       "18   18  sum(numbers(ticket)) inRange (34,239 to 36,716)      ticket   \n",
       "\n",
       "    Dominant survived       RIG     Score  lin. score  Support 0  Support 1  \\\n",
       "0                   1  0.011639  0.011509    0.623454        0.0        6.0   \n",
       "1                   1  0.009688  0.009616    0.538697        0.0        5.0   \n",
       "2                   0  0.010055  0.009613    0.535619       28.0        5.0   \n",
       "18                  1  0.008748  0.005807    0.625098        2.0        9.0   \n",
       "\n",
       "   % support 0  ...        Median  75th Percentile           Max  \\\n",
       "0         0.0%  ...  1.872300e+04     3.192100e+04  3.767100e+04   \n",
       "1         0.0%  ...  9.223372e-11     9.223372e-11  9.223372e-11   \n",
       "2        6.42%  ...           NaN              NaN           NaN   \n",
       "18       0.46%  ...  1.123790e+05     3.470820e+05  3.101317e+06   \n",
       "\n",
       "            Mean            SD  Estimated Total Values Summary is Sampled  \\\n",
       "0   1.729200e+04  1.464800e+04                     NaN              False   \n",
       "1   9.223372e-11  9.223372e-11                     NaN              False   \n",
       "2            NaN           NaN                  7567.0              False   \n",
       "18  2.951300e+05  6.518260e+05                     NaN              False   \n",
       "\n",
       "                                 numericFeatureName  \\\n",
       "0                   numericPairs(ticket) for (c.a.)   \n",
       "1                           alphanumericRatio(name)   \n",
       "2   slidingSubsets(name) contains (\"mr\", \"william\")   \n",
       "18                |sum(numbers(ticket)) - 35,477.5|   \n",
       "\n",
       "                                 booleanFeatureName  revision_id  \n",
       "0        numericPairs(ticket) for (c.a.) >= 33111.5           35  \n",
       "1                  alphanumericRatio(name) >= 0.851           35  \n",
       "2   slidingSubsets(name) contains (\"mr\", \"william\")           35  \n",
       "18  sum(numbers(ticket)) inRange (34,239 to 36,716)           35  \n",
       "\n",
       "[4 rows x 31 columns]"
      ]
     },
     "execution_count": 12,
     "metadata": {},
     "output_type": "execute_result"
    }
   ],
   "source": [
    "model = client.revision(project_name = 'Titanic_-_Survival_Prediction_peter', revision_id=35)\n",
    "df_features = model.features()\n",
    "df_features[df_features['RIG'] >= 0.0087]"
   ]
  },
  {
   "cell_type": "markdown",
   "metadata": {},
   "source": [
    "As a second check we can run a pipeline with the same data but with Simple by RIG features selection and a gain threshold of 0.0087"
   ]
  },
  {
   "cell_type": "code",
   "execution_count": 13,
   "metadata": {},
   "outputs": [
    {
     "data": {
      "text/plain": [
       "LearningSettings(\n",
       "    problem_definition=ProblemDefinition(target_column=ColumnParam(value='survived')),\n",
       "    feature_generator_settings=FeatureGenerationSettings(\n",
       "        gain_threshold=0.0087,\n",
       "        feature_selection_method=SimpleByRigSelection()\n",
       "    )\n",
       ")"
      ]
     },
     "execution_count": 13,
     "metadata": {},
     "output_type": "execute_result"
    }
   ],
   "source": [
    "model = client.revision(project_name = 'Titanic_-_Survival_Prediction_peter', revision_id=37)\n",
    "model.learning_settings()"
   ]
  },
  {
   "cell_type": "markdown",
   "metadata": {},
   "source": [
    "Setting the gain threshold to 0.0087, using Simple by RIG feature selection and running learn returns the following."
   ]
  },
  {
   "cell_type": "code",
   "execution_count": 14,
   "metadata": {},
   "outputs": [
    {
     "data": {
      "text/html": [
       "<div>\n",
       "<style scoped>\n",
       "    .dataframe tbody tr th:only-of-type {\n",
       "        vertical-align: middle;\n",
       "    }\n",
       "\n",
       "    .dataframe tbody tr th {\n",
       "        vertical-align: top;\n",
       "    }\n",
       "\n",
       "    .dataframe thead th {\n",
       "        text-align: right;\n",
       "    }\n",
       "</style>\n",
       "<table border=\"1\" class=\"dataframe\">\n",
       "  <thead>\n",
       "    <tr style=\"text-align: right;\">\n",
       "      <th></th>\n",
       "      <th>idx</th>\n",
       "      <th>feature</th>\n",
       "      <th>Input names</th>\n",
       "      <th>Dominant survived</th>\n",
       "      <th>RIG</th>\n",
       "      <th>Score</th>\n",
       "      <th>lin. score</th>\n",
       "      <th>Support 0</th>\n",
       "      <th>Support 1</th>\n",
       "      <th>% support 0</th>\n",
       "      <th>...</th>\n",
       "      <th>Median</th>\n",
       "      <th>75th Percentile</th>\n",
       "      <th>Max</th>\n",
       "      <th>Mean</th>\n",
       "      <th>SD</th>\n",
       "      <th>Estimated Total Values</th>\n",
       "      <th>Summary is Sampled</th>\n",
       "      <th>numericFeatureName</th>\n",
       "      <th>booleanFeatureName</th>\n",
       "      <th>revision_id</th>\n",
       "    </tr>\n",
       "  </thead>\n",
       "  <tbody>\n",
       "    <tr>\n",
       "      <th>0</th>\n",
       "      <td>0</td>\n",
       "      <td>numericPairs(ticket) for (c.a.) &gt;= 33111.5</td>\n",
       "      <td>ticket</td>\n",
       "      <td>1</td>\n",
       "      <td>0.011639</td>\n",
       "      <td>0.011639</td>\n",
       "      <td>0.623454</td>\n",
       "      <td>0.0</td>\n",
       "      <td>6.0</td>\n",
       "      <td>0.0%</td>\n",
       "      <td>...</td>\n",
       "      <td>1.872300e+04</td>\n",
       "      <td>3.192100e+04</td>\n",
       "      <td>3.767100e+04</td>\n",
       "      <td>1.729200e+04</td>\n",
       "      <td>1.464800e+04</td>\n",
       "      <td>NaN</td>\n",
       "      <td>False</td>\n",
       "      <td>numericPairs(ticket) for (c.a.)</td>\n",
       "      <td>numericPairs(ticket) for (c.a.) &gt;= 33111.5</td>\n",
       "      <td>37</td>\n",
       "    </tr>\n",
       "    <tr>\n",
       "      <th>1</th>\n",
       "      <td>1</td>\n",
       "      <td>slidingSubsets(name) contains (\"mr\", \"william\")</td>\n",
       "      <td>name</td>\n",
       "      <td>0</td>\n",
       "      <td>0.010055</td>\n",
       "      <td>0.010055</td>\n",
       "      <td>0.535619</td>\n",
       "      <td>28.0</td>\n",
       "      <td>5.0</td>\n",
       "      <td>6.42%</td>\n",
       "      <td>...</td>\n",
       "      <td>NaN</td>\n",
       "      <td>NaN</td>\n",
       "      <td>NaN</td>\n",
       "      <td>NaN</td>\n",
       "      <td>NaN</td>\n",
       "      <td>7567.0</td>\n",
       "      <td>False</td>\n",
       "      <td>slidingSubsets(name) contains (\"mr\", \"william\")</td>\n",
       "      <td>slidingSubsets(name) contains (\"mr\", \"william\")</td>\n",
       "      <td>37</td>\n",
       "    </tr>\n",
       "    <tr>\n",
       "      <th>2</th>\n",
       "      <td>2</td>\n",
       "      <td>alphanumericRatio(name) &gt;= 0.851</td>\n",
       "      <td>name</td>\n",
       "      <td>1</td>\n",
       "      <td>0.009688</td>\n",
       "      <td>0.009688</td>\n",
       "      <td>0.538697</td>\n",
       "      <td>0.0</td>\n",
       "      <td>5.0</td>\n",
       "      <td>0.0%</td>\n",
       "      <td>...</td>\n",
       "      <td>9.223372e-11</td>\n",
       "      <td>9.223372e-11</td>\n",
       "      <td>9.223372e-11</td>\n",
       "      <td>9.223372e-11</td>\n",
       "      <td>9.223372e-11</td>\n",
       "      <td>NaN</td>\n",
       "      <td>False</td>\n",
       "      <td>alphanumericRatio(name)</td>\n",
       "      <td>alphanumericRatio(name) &gt;= 0.851</td>\n",
       "      <td>37</td>\n",
       "    </tr>\n",
       "    <tr>\n",
       "      <th>3</th>\n",
       "      <td>3</td>\n",
       "      <td>name contains \"mr. william\"</td>\n",
       "      <td>name</td>\n",
       "      <td>0</td>\n",
       "      <td>0.009127</td>\n",
       "      <td>0.009127</td>\n",
       "      <td>0.512968</td>\n",
       "      <td>21.0</td>\n",
       "      <td>3.0</td>\n",
       "      <td>4.82%</td>\n",
       "      <td>...</td>\n",
       "      <td>NaN</td>\n",
       "      <td>NaN</td>\n",
       "      <td>NaN</td>\n",
       "      <td>NaN</td>\n",
       "      <td>NaN</td>\n",
       "      <td>4392.0</td>\n",
       "      <td>False</td>\n",
       "      <td>name contains \"mr. william\"</td>\n",
       "      <td>name contains \"mr. william\"</td>\n",
       "      <td>37</td>\n",
       "    </tr>\n",
       "    <tr>\n",
       "      <th>4</th>\n",
       "      <td>4</td>\n",
       "      <td>sum(numbers(ticket)) inRange (34,239 to 36,716)</td>\n",
       "      <td>ticket</td>\n",
       "      <td>1</td>\n",
       "      <td>0.008748</td>\n",
       "      <td>0.008748</td>\n",
       "      <td>0.625098</td>\n",
       "      <td>2.0</td>\n",
       "      <td>9.0</td>\n",
       "      <td>0.46%</td>\n",
       "      <td>...</td>\n",
       "      <td>1.123790e+05</td>\n",
       "      <td>3.470820e+05</td>\n",
       "      <td>3.101317e+06</td>\n",
       "      <td>2.951300e+05</td>\n",
       "      <td>6.518260e+05</td>\n",
       "      <td>NaN</td>\n",
       "      <td>False</td>\n",
       "      <td>|sum(numbers(ticket)) - 35,477.5|</td>\n",
       "      <td>sum(numbers(ticket)) inRange (34,239 to 36,716)</td>\n",
       "      <td>37</td>\n",
       "    </tr>\n",
       "  </tbody>\n",
       "</table>\n",
       "<p>5 rows × 31 columns</p>\n",
       "</div>"
      ],
      "text/plain": [
       "   idx                                          feature Input names  \\\n",
       "0    0       numericPairs(ticket) for (c.a.) >= 33111.5      ticket   \n",
       "1    1  slidingSubsets(name) contains (\"mr\", \"william\")        name   \n",
       "2    2                 alphanumericRatio(name) >= 0.851        name   \n",
       "3    3                      name contains \"mr. william\"        name   \n",
       "4    4  sum(numbers(ticket)) inRange (34,239 to 36,716)      ticket   \n",
       "\n",
       "   Dominant survived       RIG     Score  lin. score  Support 0  Support 1  \\\n",
       "0                  1  0.011639  0.011639    0.623454        0.0        6.0   \n",
       "1                  0  0.010055  0.010055    0.535619       28.0        5.0   \n",
       "2                  1  0.009688  0.009688    0.538697        0.0        5.0   \n",
       "3                  0  0.009127  0.009127    0.512968       21.0        3.0   \n",
       "4                  1  0.008748  0.008748    0.625098        2.0        9.0   \n",
       "\n",
       "  % support 0  ...        Median  75th Percentile           Max          Mean  \\\n",
       "0        0.0%  ...  1.872300e+04     3.192100e+04  3.767100e+04  1.729200e+04   \n",
       "1       6.42%  ...           NaN              NaN           NaN           NaN   \n",
       "2        0.0%  ...  9.223372e-11     9.223372e-11  9.223372e-11  9.223372e-11   \n",
       "3       4.82%  ...           NaN              NaN           NaN           NaN   \n",
       "4       0.46%  ...  1.123790e+05     3.470820e+05  3.101317e+06  2.951300e+05   \n",
       "\n",
       "             SD  Estimated Total Values Summary is Sampled  \\\n",
       "0  1.464800e+04                     NaN              False   \n",
       "1           NaN                  7567.0              False   \n",
       "2  9.223372e-11                     NaN              False   \n",
       "3           NaN                  4392.0              False   \n",
       "4  6.518260e+05                     NaN              False   \n",
       "\n",
       "                                numericFeatureName  \\\n",
       "0                  numericPairs(ticket) for (c.a.)   \n",
       "1  slidingSubsets(name) contains (\"mr\", \"william\")   \n",
       "2                          alphanumericRatio(name)   \n",
       "3                      name contains \"mr. william\"   \n",
       "4                |sum(numbers(ticket)) - 35,477.5|   \n",
       "\n",
       "                                booleanFeatureName  revision_id  \n",
       "0       numericPairs(ticket) for (c.a.) >= 33111.5           37  \n",
       "1  slidingSubsets(name) contains (\"mr\", \"william\")           37  \n",
       "2                 alphanumericRatio(name) >= 0.851           37  \n",
       "3                      name contains \"mr. william\"           37  \n",
       "4  sum(numbers(ticket)) inRange (34,239 to 36,716)           37  \n",
       "\n",
       "[5 rows x 31 columns]"
      ]
     },
     "execution_count": 14,
     "metadata": {},
     "output_type": "execute_result"
    }
   ],
   "source": [
    "df_features = model.features()\n",
    "df_features"
   ]
  },
  {
   "cell_type": "markdown",
   "metadata": {},
   "source": [
    "We see 5 features with a RIG higher than 0.0087, in agreement with our estimation (4-5 features) from the permutation test."
   ]
  },
  {
   "cell_type": "code",
   "execution_count": null,
   "metadata": {},
   "outputs": [],
   "source": []
  }
 ],
 "metadata": {
  "kernelspec": {
   "display_name": "Python 3",
   "language": "python",
   "name": "python3"
  },
  "language_info": {
   "codemirror_mode": {
    "name": "ipython",
    "version": 3
   },
   "file_extension": ".py",
   "mimetype": "text/x-python",
   "name": "python",
   "nbconvert_exporter": "python",
   "pygments_lexer": "ipython3",
   "version": "3.6.13"
  }
 },
 "nbformat": 4,
 "nbformat_minor": 2
}
